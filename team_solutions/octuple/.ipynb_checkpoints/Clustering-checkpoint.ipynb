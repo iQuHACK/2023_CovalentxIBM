{
 "cells": [
  {
   "cell_type": "code",
   "execution_count": 2,
   "id": "89ac3e79",
   "metadata": {},
   "outputs": [],
   "source": [
    "import qiskit\n",
    "import covalent as ct"
   ]
  },
  {
   "cell_type": "code",
   "execution_count": 12,
   "id": "b845c379",
   "metadata": {},
   "outputs": [],
   "source": [
    "from qiskit.providers.ibmq import IBMQ"
   ]
  },
  {
   "cell_type": "code",
   "execution_count": 23,
   "id": "d33f967e",
   "metadata": {},
   "outputs": [
    {
     "name": "stderr",
     "output_type": "stream",
     "text": [
      "configrc.store_credentials:WARNING:2023-01-29 00:18:47,662: Credentials already present. Set overwrite=True to overwrite.\n"
     ]
    }
   ],
   "source": [
    "IBMQ.save_account('YOUR_API_KEY')"
   ]
  },
  {
   "cell_type": "code",
   "execution_count": 13,
   "id": "b29d2aef",
   "metadata": {},
   "outputs": [
    {
     "data": {
      "text/plain": [
       "<AccountProvider for IBMQ(hub='ibm-q', group='open', project='main')>"
      ]
     },
     "execution_count": 13,
     "metadata": {},
     "output_type": "execute_result"
    }
   ],
   "source": [
    "IBMQ.load_account()"
   ]
  },
  {
   "cell_type": "code",
   "execution_count": 21,
   "id": "ac5b0c24",
   "metadata": {},
   "outputs": [],
   "source": [
    "from qiskit import QuantumCircuit, execute, transpile\n",
    "import numpy as np\n",
    "\n",
    "# @ct.electron\n",
    "def construct_circuit():    \n",
    "    circuit = QuantumCircuit(7)\n",
    "    \n",
    "    unitary_operators = [[[1,0],[0,1]]]\n",
    "    for operator in unitary_operators:\n",
    "        circuit.unitary(operator, 0)\n",
    "    \n",
    "    circuit.measure_all()\n",
    "    \n",
    "    return circuit\n",
    "\n",
    "# @ct.electron\n",
    "def construct_simulator(circuit):\n",
    "    from qiskit.providers.ibmq import IBMQ\n",
    " \n",
    "    provider = IBMQ.get_provider(hub='ibm-q-community', group='mit-hackathon', project='main')\n",
    "    provider.backends()\n",
    "\n",
    "    backend = provider.get_backend('ibm_oslo')\n",
    "    \n",
    "    from qiskit.providers.aer import AerSimulator\n",
    "\n",
    "    # Generate a simulator the mimics the real quantum system with the latest calibration\n",
    "    simulator = AerSimulator.from_backend(backend)\n",
    "    circuit = transpile(circuit, simulator)\n",
    "    \n",
    "    return circuit, simulator    \n",
    "    \n",
    "# @ct.lattice\n",
    "def test():\n",
    "    circuit = construct_circuit()\n",
    "    return simulate(circuit=circuit)"
   ]
  },
  {
   "cell_type": "code",
   "execution_count": 22,
   "id": "3604c5e6",
   "metadata": {},
   "outputs": [],
   "source": [
    "results = test()"
   ]
  },
  {
   "cell_type": "code",
   "execution_count": 23,
   "id": "92c7f0f2",
   "metadata": {},
   "outputs": [
    {
     "name": "stdout",
     "output_type": "stream",
     "text": [
      "None\n"
     ]
    }
   ],
   "source": [
    "print(results)"
   ]
  },
  {
   "cell_type": "code",
   "execution_count": null,
   "id": "ad0fb880",
   "metadata": {},
   "outputs": [],
   "source": []
  }
 ],
 "metadata": {
  "kernelspec": {
   "display_name": "Python 3 (ipykernel)",
   "language": "python",
   "name": "python3"
  },
  "language_info": {
   "codemirror_mode": {
    "name": "ipython",
    "version": 3
   },
   "file_extension": ".py",
   "mimetype": "text/x-python",
   "name": "python",
   "nbconvert_exporter": "python",
   "pygments_lexer": "ipython3",
   "version": "3.8.10"
  }
 },
 "nbformat": 4,
 "nbformat_minor": 5
}
