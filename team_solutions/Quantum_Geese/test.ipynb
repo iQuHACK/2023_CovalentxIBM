{
 "cells": [
  {
   "cell_type": "code",
   "execution_count": 28,
   "id": "bae91f50-882a-444d-9d17-9623e177ff15",
   "metadata": {},
   "outputs": [],
   "source": [
    "import math\n",
    "import time\n",
    "from qiskit import *\n",
    "\n",
    "# Import Aer\n",
    "\n",
    "from qiskit import Aer"
   ]
  },
  {
   "cell_type": "code",
   "execution_count": 29,
   "id": "dab9fded-ae66-499b-849a-f91a6beedf85",
   "metadata": {},
   "outputs": [
    {
     "name": "stdout",
     "output_type": "stream",
     "text": [
      "Covalent server is already running at http://localhost:48008.\n"
     ]
    }
   ],
   "source": [
    "!covalent start"
   ]
  },
  {
   "cell_type": "code",
   "execution_count": 27,
   "id": "00bc8a16-5f36-402c-ab02-00237fd1bee4",
   "metadata": {},
   "outputs": [],
   "source": [
    "import os\n",
    "\n",
    "import covalent as ct\n",
    "from qiskit import QuantumCircuit\n",
    "from qiskit.compiler import transpile\n",
    "from qiskit.quantum_info import SparsePauliOp\n",
    "from qiskit_ibm_runtime import Estimator, QiskitRuntimeService, Session"
   ]
  },
  {
   "cell_type": "code",
   "execution_count": 33,
   "id": "45c1f007-12f7-427a-89bb-e9ea3144cfdc",
   "metadata": {
    "tags": []
   },
   "outputs": [
    {
     "name": "stdout",
     "output_type": "stream",
     "text": [
      "Welcome to Guess that number!\n",
      "-=-=-=-=-=-=-=-=-=-=-=-=-=-=-=-\n",
      "Please type difficult: easy/medium/hard/extreme\n"
     ]
    },
    {
     "name": "stdin",
     "output_type": "stream",
     "text": [
      " easy\n"
     ]
    },
    {
     "name": "stdout",
     "output_type": "stream",
     "text": [
      "You may begin! Guess the number!\n"
     ]
    },
    {
     "name": "stdin",
     "output_type": "stream",
     "text": [
      " 10\n"
     ]
    },
    {
     "name": "stdout",
     "output_type": "stream",
     "text": [
      "You are getting warmer!\n"
     ]
    },
    {
     "name": "stdin",
     "output_type": "stream",
     "text": [
      " 30\n"
     ]
    },
    {
     "name": "stdout",
     "output_type": "stream",
     "text": [
      "You are almost there!\n"
     ]
    },
    {
     "name": "stdin",
     "output_type": "stream",
     "text": [
      " 35\n"
     ]
    },
    {
     "name": "stdout",
     "output_type": "stream",
     "text": [
      "Ouch, getting colder...\n"
     ]
    },
    {
     "name": "stdin",
     "output_type": "stream",
     "text": [
      " 34\n"
     ]
    },
    {
     "name": "stdout",
     "output_type": "stream",
     "text": [
      "You are getting warmer!\n"
     ]
    },
    {
     "name": "stdin",
     "output_type": "stream",
     "text": [
      " 32\n"
     ]
    },
    {
     "name": "stdout",
     "output_type": "stream",
     "text": [
      "You are almost there!\n"
     ]
    },
    {
     "name": "stdin",
     "output_type": "stream",
     "text": [
      " 25\n"
     ]
    },
    {
     "name": "stdout",
     "output_type": "stream",
     "text": [
      "You are almost there!\n"
     ]
    },
    {
     "name": "stdin",
     "output_type": "stream",
     "text": [
      " 27\n"
     ]
    },
    {
     "name": "stdout",
     "output_type": "stream",
     "text": [
      "Ouch, getting colder...\n"
     ]
    },
    {
     "name": "stdin",
     "output_type": "stream",
     "text": [
      " 24\n"
     ]
    },
    {
     "name": "stdout",
     "output_type": "stream",
     "text": [
      "You are almost there!\n"
     ]
    },
    {
     "name": "stdin",
     "output_type": "stream",
     "text": [
      " 23\n"
     ]
    },
    {
     "name": "stdout",
     "output_type": "stream",
     "text": [
      "You guessed it! The number is: 23\n",
      "Would you like to play again? y/n\n"
     ]
    },
    {
     "name": "stdin",
     "output_type": "stream",
     "text": [
      " n\n"
     ]
    },
    {
     "name": "stdout",
     "output_type": "stream",
     "text": [
      "lol okay\n",
      "Thank you for please guess that number!\n"
     ]
    }
   ],
   "source": [
    "#Quantum Circuit Vaariables and Gates\n",
    "#@ct.electron\n",
    "qc = QuantumCircuit(1,1)\n",
    "\n",
    "#Apply H Gate\n",
    "qc.h(0)\n",
    "\n",
    "#Measure the Result\n",
    "qc.measure(0,0)\n",
    "\n",
    "# Use Aer's qasm_simulator\n",
    "backend_sim = Aer.get_backend('qasm_simulator')\n",
    "\n",
    "#Creates a number based on the number f bits\n",
    "\n",
    "def qrng(bits):\n",
    "\n",
    "    \"\"\"qrng between 1 and 2^n n=bits (int)\"\"\"\n",
    "\n",
    "\n",
    "    bit_string=''\n",
    "\n",
    "\n",
    "    for i in range(bits):\n",
    "\n",
    "        # Execute the circuit on the qasm simulator.\n",
    "\n",
    "        # We've set the number of repeats of the circuit\n",
    "\n",
    "        # to be 1024, which is the default.\n",
    "\n",
    "        job_sim = backend_sim.run(transpile(qc, backend_sim), shots=1)\n",
    "\n",
    "\n",
    "        # Grab the results from the job.\n",
    "\n",
    "        result_sim = job_sim.result()\n",
    "\n",
    "        counts = result_sim.get_counts(qc)\n",
    "\n",
    "        gen=(str(counts)[2]) #generated bit\n",
    "\n",
    "        bit_string+=gen\n",
    "\n",
    " \n",
    "\n",
    "    return(int(bit_string,2)+1)\n",
    "\n",
    "#function for picking a number between a range of numbers\n",
    "\n",
    "def qrng_range(difficulty):\n",
    "    \"\"\"\n",
    "    generates a random number between min and max inclusive\n",
    "    difficulty: string (\"easy\", \"medium\", \"hard\", \"extreme\")\n",
    "    \"\"\"\n",
    "    \"\"\"\n",
    "    DIFFICULTIES:\n",
    "        - easy: 1-100 // 2^7 bits\n",
    "\n",
    "        - medium:1-1000 // 2^10 bits\n",
    "\n",
    "        - hard:1-100,000 // 2^17 bits\n",
    "\n",
    "        - extreme:1-1,000,000 // 2^20 bits\n",
    "    \"\"\"\n",
    "\n",
    "    mode={} #dict mapping difficulty mode to tuple indicating (max,required #bits)\n",
    "    \n",
    "    #Modes\n",
    "    mode[\"easy\"]=(100,7)\n",
    "    mode[\"medium\"]=(1000,10)\n",
    "    mode[\"hard\"]=(100000,17)\n",
    "    mode[\"extreme\"]=(1000000,20)\n",
    "    number=9999999\n",
    "\n",
    "    \n",
    "    while number>mode[difficulty][0]:\n",
    "        number=qrng(mode[difficulty][1])\n",
    "\n",
    "    return number\n",
    "\n",
    "#code that makes the computer guess the numeber\n",
    "\n",
    "\"\"\"\n",
    "def quantum_Guesser(number, random):\n",
    "    \n",
    "    currentNum = number\n",
    "    realNum = random\n",
    "    nextNumber = number\n",
    "    \n",
    "     distance = realNum-currentNum\n",
    "    \n",
    "    if abs(distance) >= 10 && distance < 0:\n",
    "        nextNumber -= 10\n",
    "    elif abs(distance) >= 10 && distance > 0: \n",
    "        nextNumber +=10\n",
    "    elif abs(distance) >= 5 && abs(distance) < 10 && distance < 0: \n",
    "        nextNumber -=5 \n",
    "    elif abs(distance) >= 5 && abs(distance) < 10 && distance > 0: \n",
    "        nextNumber +=5 \n",
    "    elif abs(distance) < 5 && distance < 0: \n",
    "        nextNumber -=1 \n",
    "    elif abs(distance) < 5 && distance > 0: \n",
    "        nextNumber +=1 \n",
    "    \n",
    "    return nextNumber\n",
    "    \n",
    "\"\"\"\n",
    " \n",
    "def main():\n",
    "\n",
    "    state = 0\n",
    "    \n",
    "    while 1==1:\n",
    "        \n",
    "        #Begining state\n",
    "        if state == 0:\n",
    "             #initializing the begining of the game\n",
    "            print(\"Welcome to Guess that number!\")\n",
    "            print(\"-=-=-=-=-=-=-=-=-=-=-=-=-=-=-=-\")\n",
    "            time.sleep(1.5)\n",
    "            print(\"Please type difficult: easy/medium/hard/extreme\")\n",
    "\n",
    "            user_Select_Difficulty = input()\n",
    "\n",
    "            #select difficulty code\n",
    "            if user_Select_Difficulty == \"easy\":\n",
    "                random_Num = qrng_range(\"easy\")\n",
    "\n",
    "            elif user_Select_Difficulty == \"medium\":\n",
    "                random_Num = qrng_range(\"medium\")\n",
    "\n",
    "            elif user_Select_Difficulty == \"hard\":\n",
    "                random_Num = qrng_range(\"hard\")\n",
    "                \n",
    "            elif user_Select_Difficulty == \"extreme\":\n",
    "                random_Num = qrng_range(\"extreme\")\n",
    "\n",
    "            else:\n",
    "                print(\"please make sure your input is valid: easy/medium/hard/extreme\")\n",
    "                user_Select_Difficulty = input()\n",
    "                \n",
    "            state = 1\n",
    "            \n",
    "        elif state == 1:\n",
    "            #Game Begins\n",
    "            print(\"You may begin! Guess the number!\")\n",
    "\n",
    "            #User number input\n",
    "            your_Num = int(input())\n",
    "            \n",
    "            #Computers Guess\n",
    "            #computer_Num = \n",
    "\n",
    "            #calculates the absolute distance between the number and the guess\n",
    "            distance = abs(random_Num-your_Num);\n",
    "\n",
    "            #your previous guess\n",
    "            last_distance = 9999999999999999999999999999999\n",
    "\n",
    "            while your_Num != random_Num:\n",
    "                distance = abs(random_Num-int(your_Num));\n",
    "                if your_Num == \"break\":\n",
    "                    break;\n",
    "\n",
    "                \"\"\"\n",
    "                if your current guess is less than your previous guess that means you are closer to the number\n",
    "                    if its greater than, it means you are colder, otherwise your guess its probably the same as last time\n",
    "                \"\"\"\n",
    "                if distance < last_distance:\n",
    "                    if distance < 10:\n",
    "                        print(\"You are almost there!\")\n",
    "                    else:\n",
    "                        print(\"You are getting warmer!\")\n",
    "                elif distance > last_distance:\n",
    "                    print(\"Ouch, getting colder...\")\n",
    "                else:\n",
    "                    print(\"Try again!\")\n",
    "\n",
    "                last_distance = distance\n",
    "\n",
    "                your_Num = int(input())\n",
    "\n",
    "            print(\"You guessed it! The number is: \" + str(random_Num))\n",
    "            print(\"Would you like to play again? y/n\")\n",
    "            \n",
    "            replay = input()\n",
    "            \n",
    "            if replay == \"y\":\n",
    "                state = 0\n",
    "            elif replay == \"n\":\n",
    "                print(\"lol okay\")\n",
    "                state = 2\n",
    "                \n",
    "        elif state == 2:\n",
    "            print(\"Thank you for please guess that number!\")\n",
    "            break\n",
    "                \n",
    "if __name__ == \"__main__\":\n",
    "    main()"
   ]
  },
  {
   "cell_type": "code",
   "execution_count": null,
   "id": "7d13200b-a1c6-4816-8212-c459040cc610",
   "metadata": {},
   "outputs": [],
   "source": []
  }
 ],
 "metadata": {
  "kernelspec": {
   "display_name": "Python 3 (ipykernel)",
   "language": "python",
   "name": "python3"
  },
  "language_info": {
   "codemirror_mode": {
    "name": "ipython",
    "version": 3
   },
   "file_extension": ".py",
   "mimetype": "text/x-python",
   "name": "python",
   "nbconvert_exporter": "python",
   "pygments_lexer": "ipython3",
   "version": "3.9.13"
  }
 },
 "nbformat": 4,
 "nbformat_minor": 5
}
