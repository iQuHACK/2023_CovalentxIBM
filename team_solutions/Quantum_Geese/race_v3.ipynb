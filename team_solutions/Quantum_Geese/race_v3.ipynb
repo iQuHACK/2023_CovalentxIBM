{
 "cells": [
  {
   "cell_type": "code",
   "execution_count": 4,
   "id": "98c00287-5440-4f5b-b648-b48118b12b39",
   "metadata": {},
   "outputs": [
    {
     "name": "stderr",
     "output_type": "stream",
     "text": [
      "/opt/conda/lib/python3.8/site-packages/qiskit_aer/noise/device/models.py:365: UserWarning: Device model returned an invalid T_2 relaxation time greater than the theoretical maximum value 2 * T_1 (256641.33307868752 > 2 * 86159.68087196324). Truncating to maximum value.\n",
      "  warn(\"Device model returned an invalid T_2 relaxation time greater than\"\n",
      "/opt/conda/lib/python3.8/site-packages/qiskit_aer/noise/device/models.py:365: UserWarning: Device model returned an invalid T_2 relaxation time greater than the theoretical maximum value 2 * T_1 (256641.33307868752 > 2 * 86159.68087196324). Truncating to maximum value.\n",
      "  warn(\"Device model returned an invalid T_2 relaxation time greater than\"\n",
      "/opt/conda/lib/python3.8/site-packages/qiskit_aer/noise/device/models.py:365: UserWarning: Device model returned an invalid T_2 relaxation time greater than the theoretical maximum value 2 * T_1 (256641.33307868752 > 2 * 86159.68087196324). Truncating to maximum value.\n",
      "  warn(\"Device model returned an invalid T_2 relaxation time greater than\"\n",
      "/opt/conda/lib/python3.8/site-packages/qiskit_aer/noise/device/models.py:365: UserWarning: Device model returned an invalid T_2 relaxation time greater than the theoretical maximum value 2 * T_1 (256641.33307868752 > 2 * 86159.68087196324). Truncating to maximum value.\n",
      "  warn(\"Device model returned an invalid T_2 relaxation time greater than\"\n",
      "/opt/conda/lib/python3.8/site-packages/qiskit_aer/noise/device/models.py:365: UserWarning: Device model returned an invalid T_2 relaxation time greater than the theoretical maximum value 2 * T_1 (256641.33307868752 > 2 * 86159.68087196324). Truncating to maximum value.\n",
      "  warn(\"Device model returned an invalid T_2 relaxation time greater than\"\n",
      "/opt/conda/lib/python3.8/site-packages/qiskit_aer/noise/device/models.py:365: UserWarning: Device model returned an invalid T_2 relaxation time greater than the theoretical maximum value 2 * T_1 (256641.33307868752 > 2 * 86159.68087196324). Truncating to maximum value.\n",
      "  warn(\"Device model returned an invalid T_2 relaxation time greater than\"\n",
      "/opt/conda/lib/python3.8/site-packages/qiskit_aer/noise/device/models.py:365: UserWarning: Device model returned an invalid T_2 relaxation time greater than the theoretical maximum value 2 * T_1 (0.0002566413330786875 > 2 * 8.615968087196325e-05). Truncating to maximum value.\n",
      "  warn(\"Device model returned an invalid T_2 relaxation time greater than\"\n"
     ]
    }
   ],
   "source": [
    "from qiskit.providers.ibmq import IBMQ\n",
    "from qiskit.providers.aer import AerSimulator\n",
    "\n",
    "provider = IBMQ.get_provider(hub=\"ibm-q-community\", group=\"mit-hackathon\", project=\"main\")\n",
    "backend = provider.get_backend('ibm_oslo')\n",
    "\n",
    "# generate a simulator that mimics the real quantum system with the latest calibration results\n",
    "backend_sim = AerSimulator.from_backend(backend)"
   ]
  },
  {
   "cell_type": "code",
   "execution_count": 6,
   "id": "c0552e34-d1db-4489-9d5b-b0eac1bd5f69",
   "metadata": {},
   "outputs": [
    {
     "name": "stdout",
     "output_type": "stream",
     "text": [
      "let's play guess that number!\n",
      "how it works: you and qcomp make a guess at the same time. qcomp knows your guesses, but you don't know its guesses\n"
     ]
    },
    {
     "name": "stdin",
     "output_type": "stream",
     "text": [
      "try to guess the number before the quantum computer does\n",
      "choose your difficulty (easy, medium, harder): medium\n"
     ]
    },
    {
     "name": "stdout",
     "output_type": "stream",
     "text": [
      "\n",
      "guess a number between 1 and 10:\n",
      "(qcomp is guessing...)\n"
     ]
    },
    {
     "name": "stdin",
     "output_type": "stream",
     "text": [
      "your guess: 5\n"
     ]
    },
    {
     "name": "stdout",
     "output_type": "stream",
     "text": [
      "(qcomp is guessing...)\n",
      "you're getting warmer. guess again\n"
     ]
    },
    {
     "name": "stdin",
     "output_type": "stream",
     "text": [
      "your guess: 3\n"
     ]
    },
    {
     "name": "stdout",
     "output_type": "stream",
     "text": [
      "(qcomp is guessing...)\n",
      "you're getting colder. guess again\n"
     ]
    },
    {
     "name": "stdin",
     "output_type": "stream",
     "text": [
      "your guess: 7\n"
     ]
    },
    {
     "name": "stdout",
     "output_type": "stream",
     "text": [
      "(qcomp is guessing...)\n",
      "you're getting warmer. guess again\n"
     ]
    },
    {
     "name": "stdin",
     "output_type": "stream",
     "text": [
      "your guess: 8\n"
     ]
    },
    {
     "name": "stdout",
     "output_type": "stream",
     "text": [
      "(qcomp is guessing...)\n",
      "you're getting warmer. guess again\n"
     ]
    },
    {
     "name": "stdin",
     "output_type": "stream",
     "text": [
      "your guess: 9\n"
     ]
    },
    {
     "name": "stdout",
     "output_type": "stream",
     "text": [
      "(qcomp is guessing...)\n",
      "you're getting warmer. guess again\n"
     ]
    },
    {
     "name": "stdin",
     "output_type": "stream",
     "text": [
      "your guess: 10\n"
     ]
    },
    {
     "name": "stdout",
     "output_type": "stream",
     "text": [
      "you win! the number was 10\n"
     ]
    }
   ],
   "source": [
    "qc=QuantumCircuit(1,1)\n",
    "qc.h(0)\n",
    "qc.measure(0,0)\n",
    "\n",
    "def qrng(bits,sim):\n",
    "\n",
    "    \"\"\"qrng between 1 and 2^n\n",
    "    n=bits (int)\n",
    "    sim:bool true=simulate, false = use realqcomp\"\"\"\n",
    "\n",
    "    bit_string=''\n",
    "    for i in range(bits):\n",
    "        if sim:\n",
    "            job_sim = backend_sim.run(transpile(qc, backend_sim), shots=1)\n",
    "            result_sim = job_sim.result()\n",
    "            counts = result_sim.get_counts(qc)\n",
    "            gen=(str(counts)[2]) #generated bit\n",
    "            bit_string+=gen\n",
    "        else:\n",
    "            job=backend.run(transpile(qc,backend_sim),shots=1)\n",
    "            result=job.result()\n",
    "            counts=result.get_counts(qc)\n",
    "            gen=(str(counts)[2])\n",
    "            #{[0]:1}\n",
    "            bit_string+=gen\n",
    "\n",
    "    return(int(bit_string,2)+1)\n",
    "\n",
    "\n",
    "def qrng_range(difficulties,selection,sim):\n",
    "\n",
    "    \"\"\"generates a random number between min and max inclusive\n",
    "    difficulties: dict of difficulty modes\n",
    "    selection: string (\"easy\", \"medium\", \"hard\", \"extreme\")\n",
    "    sim:bool true=simulate, false = use realqcomp\n",
    "\n",
    "    easy: 1-100 // 2^7\n",
    "    medium:1-1000 // 2^10\n",
    "    hard:1-100,000 // 2^17\n",
    "    extreme:1-1,000,000 // 2^20\n",
    "    \"\"\"\n",
    "\n",
    "    number=9999999\n",
    "    while number>difficulties[selection][0]:\n",
    "        number=qrng(difficulties[selection][1],sim)\n",
    "        \n",
    "    return number\n",
    "\n",
    "def rand_num_guesser_game(sim=True):\n",
    "    \n",
    "    modes={} #dict mapping difficulty mode to tuple indicating (max for guessing,required #bits)\n",
    "    modes[\"harder\"]=(5,3)\n",
    "    modes[\"medium\"]=(10,4)\n",
    "    modes[\"easy\"]=(50,6)\n",
    "    modes[\"easiest\"]=(1000,10)\n",
    "    modes[\"too easy\"]=(1000000,20)\n",
    "\n",
    "    print(\"let's play guess that number!\\nhow it works: you and qcomp make a guess at the same time. qcomp knows your guesses, but you don't know its guesses\")\n",
    "    mode=str(input(\"try to guess the number before the quantum computer does\\nchoose your difficulty (easy, medium, harder):\"))\n",
    "    \n",
    "    random_Num = qrng_range(modes,mode,sim)\n",
    "    #print(random_Num) #printing for testing\n",
    "    \n",
    "    print(\"\\nguess a number between 1 and \" + str(modes[mode][0]) + \":\")\n",
    "    \n",
    "    #qcomp makes a guess\n",
    "    guessed=[]\n",
    "    q_guess=qrng_range(modes,mode,sim)\n",
    "    guessed.append(q_guess)\n",
    "\n",
    "    print(\"(qcomp is guessing...)\")\n",
    "    \n",
    "    your_Num = int(input(\"your guess:\"))\n",
    "    guessed.append(your_Num)\n",
    "    #calculates the absolute distance between the number and the guess\n",
    "    distance = abs(random_Num-your_Num);\n",
    "    #your previous guess\n",
    "    last_distance = 999999999999;\n",
    "\n",
    "\n",
    "    \n",
    "    #each iteration of this loop is a guess\n",
    "    qcomp_lost=True\n",
    "    while your_Num != random_Num:\n",
    "        \n",
    "        #qcomp makes another guess\n",
    "        new_guess=q_guess\n",
    "        while new_guess in guessed:\n",
    "            new_guess=qrng_range(modes,mode,sim)\n",
    "        guessed.append(new_guess)\n",
    "        \n",
    "        if new_guess ==random_Num:\n",
    "            print(\"qcomp guessed correctly-\"+ str(new_guess)+\". you lose!\")\n",
    "            qcomp_lost=False\n",
    "            break\n",
    "        else:\n",
    "            print(\"(qcomp is guessing...)\")\n",
    "        \n",
    "        \n",
    "        distance = abs(random_Num-int(your_Num))\n",
    "        guessed.append(your_Num)\n",
    "        if your_Num == \"break\":\n",
    "            break\n",
    "        \n",
    "        \n",
    "        \"\"\"\n",
    "        if your current guess is less than your previous guess that means you are closer to the number\n",
    "            if its greater than, it means you are colder, otherwise your guess its probably the same as last time\n",
    "        \"\"\"\n",
    "        if distance < last_distance:\n",
    "            print(\"you're getting warmer. guess again\")\n",
    "        elif distance > last_distance:\n",
    "            print(\"you're getting colder. guess again\")\n",
    "        else:\n",
    "            print(\"try again\")\n",
    "        \n",
    "        \n",
    "\n",
    "        last_distance = distance\n",
    "        your_Num = int(input(\"your guess:\"))\n",
    "        \n",
    "        \n",
    "        \n",
    "    if qcomp_lost:\n",
    "        print(\"you win! the number was\", random_Num)\n",
    "    \n",
    "    \n",
    "def main():\n",
    "    \n",
    "    rand_num_guesser_game()\n",
    "    #true = use simulator\n",
    "    #false = use real qcomp\n",
    "\n",
    "if __name__ == \"__main__\":\n",
    "    main()\n"
   ]
  },
  {
   "cell_type": "code",
   "execution_count": null,
   "id": "d4fb8558-35cc-4fde-936b-9a6c18d3cf91",
   "metadata": {},
   "outputs": [],
   "source": []
  }
 ],
 "metadata": {
  "kernelspec": {
   "display_name": "Python 3 (ipykernel)",
   "language": "python",
   "name": "python3"
  },
  "language_info": {
   "codemirror_mode": {
    "name": "ipython",
    "version": 3
   },
   "file_extension": ".py",
   "mimetype": "text/x-python",
   "name": "python",
   "nbconvert_exporter": "python",
   "pygments_lexer": "ipython3",
   "version": "3.8.13"
  },
  "widgets": {
   "application/vnd.jupyter.widget-state+json": {
    "state": {
     "00a5fd910c5c44a5ab45d77ea22958e9": {
      "model_module": "@jupyter-widgets/base",
      "model_module_version": "1.2.0",
      "model_name": "LayoutModel",
      "state": {
       "width": "95px"
      }
     },
     "00b11355e8334282818274a2b8eccd92": {
      "model_module": "@jupyter-widgets/controls",
      "model_module_version": "1.5.0",
      "model_name": "DescriptionStyleModel",
      "state": {
       "description_width": ""
      }
     },
     "00fd5ac4ff5b49f9847943383b224836": {
      "model_module": "@jupyter-widgets/base",
      "model_module_version": "1.2.0",
      "model_name": "LayoutModel",
      "state": {
       "width": "145px"
      }
     },
     "02049fd867404fbdbcb55daaf621e8e3": {
      "model_module": "@jupyter-widgets/base",
      "model_module_version": "1.2.0",
      "model_name": "LayoutModel",
      "state": {
       "width": "95px"
      }
     },
     "03069d74921748dfa87a76da5b390efd": {
      "model_module": "@jupyter-widgets/controls",
      "model_module_version": "1.5.0",
      "model_name": "DescriptionStyleModel",
      "state": {
       "description_width": ""
      }
     },
     "050ad2edfb8b4b9faf5376183bf8a1af": {
      "model_module": "@jupyter-widgets/controls",
      "model_module_version": "1.5.0",
      "model_name": "DescriptionStyleModel",
      "state": {
       "description_width": ""
      }
     },
     "0579dc14c35743b58627a6d54fa6fe23": {
      "model_module": "@jupyter-widgets/base",
      "model_module_version": "1.2.0",
      "model_name": "LayoutModel",
      "state": {
       "width": "190px"
      }
     },
     "0689d1f6d4c64e16a52926b24c2bf854": {
      "model_module": "@jupyter-widgets/controls",
      "model_module_version": "1.5.0",
      "model_name": "HBoxModel",
      "state": {
       "children": [
        "IPY_MODEL_1cde7d6ea52a4001ac107abb191c5bae",
        "IPY_MODEL_c65b66a42d7640429b6e9f0c69da38e8",
        "IPY_MODEL_f6c6efe746bf446b8e687ec2b974adaf",
        "IPY_MODEL_a3617b07df344b128a5be74d80bfa6cc",
        "IPY_MODEL_84096ca8626441a69977d20bff812d27",
        "IPY_MODEL_4c6ffba037954a7f8afadd0f1128ab0a"
       ],
       "layout": "IPY_MODEL_745862a30074443bb743953275094f2d"
      }
     },
     "06d3ea67afc240cbbc7ea186709258a7": {
      "model_module": "@jupyter-widgets/controls",
      "model_module_version": "1.5.0",
      "model_name": "DescriptionStyleModel",
      "state": {
       "description_width": ""
      }
     },
     "07518acb4c7941289807f65cdf37dd26": {
      "model_module": "@jupyter-widgets/base",
      "model_module_version": "1.2.0",
      "model_name": "LayoutModel",
      "state": {
       "overflow_x": "scroll"
      }
     },
     "079ea06ce72f4ccb8e36a1366e940c51": {
      "model_module": "@jupyter-widgets/controls",
      "model_module_version": "1.5.0",
      "model_name": "DescriptionStyleModel",
      "state": {
       "description_width": ""
      }
     },
     "07a43b200460460684707b555ee43991": {
      "model_module": "@jupyter-widgets/controls",
      "model_module_version": "1.5.0",
      "model_name": "DescriptionStyleModel",
      "state": {
       "description_width": ""
      }
     },
     "07f542a3bec744d8a41e0e47553a0eba": {
      "model_module": "@jupyter-widgets/base",
      "model_module_version": "1.2.0",
      "model_name": "LayoutModel",
      "state": {
       "margin": "0px 5px 0px 0px",
       "width": "32px"
      }
     },
     "07fa27b5fe8848f69184a75c8592f33e": {
      "model_module": "@jupyter-widgets/controls",
      "model_module_version": "1.5.0",
      "model_name": "ButtonStyleModel",
      "state": {
       "button_color": "white"
      }
     },
     "0866514b3abd4b9384d58c1b8936bbe0": {
      "model_module": "@jupyter-widgets/controls",
      "model_module_version": "1.5.0",
      "model_name": "HBoxModel",
      "state": {
       "children": [
        "IPY_MODEL_625594cb11164a00b974e2f1a1060d22",
        "IPY_MODEL_bc365e4126a243d6920687b217596d4b",
        "IPY_MODEL_fac5ae15fa1440fc8ed20c8b137a0a0c",
        "IPY_MODEL_8a7b32c38d3c46a7942a134cefc1f792",
        "IPY_MODEL_c9472bc602f743c094c47259fabe5fe7",
        "IPY_MODEL_301734a4b7854f9495a076c801ee1444"
       ],
       "layout": "IPY_MODEL_90c501cca3b647e0810e5644ffef72ca"
      }
     },
     "09d70b320c674445ab358cad65f61dcf": {
      "model_module": "@jupyter-widgets/base",
      "model_module_version": "1.2.0",
      "model_name": "LayoutModel",
      "state": {
       "width": "145px"
      }
     },
     "0a069ffd974f4038b3b17e78eee0591c": {
      "model_module": "@jupyter-widgets/base",
      "model_module_version": "1.2.0",
      "model_name": "LayoutModel",
      "state": {
       "width": "70px"
      }
     },
     "0a14e531ff974bd694314f20765fda6a": {
      "model_module": "@jupyter-widgets/controls",
      "model_module_version": "1.5.0",
      "model_name": "HTMLModel",
      "state": {
       "layout": "IPY_MODEL_80cb8c3ce21a40448863069e45d37a5f",
       "style": "IPY_MODEL_06d3ea67afc240cbbc7ea186709258a7",
       "value": "<h5>Status</h5>"
      }
     },
     "0a3b947d55584119817b5918b5482ffe": {
      "model_module": "@jupyter-widgets/base",
      "model_module_version": "1.2.0",
      "model_name": "LayoutModel",
      "state": {
       "overflow_x": "scroll"
      }
     },
     "0af046e83adf49a6b54ba9b6181a474c": {
      "model_module": "@jupyter-widgets/controls",
      "model_module_version": "1.5.0",
      "model_name": "HTMLModel",
      "state": {
       "layout": "IPY_MODEL_b1bd971f8948478c98b6d3dd573de3ab",
       "style": "IPY_MODEL_079ea06ce72f4ccb8e36a1366e940c51",
       "value": "job has successfully run"
      }
     },
     "0b9a431b5ddc43378169a84b7ba450f9": {
      "model_module": "@jupyter-widgets/controls",
      "model_module_version": "1.5.0",
      "model_name": "DescriptionStyleModel",
      "state": {
       "description_width": ""
      }
     },
     "0c6af001d48846d6bebb5d4055862a28": {
      "model_module": "@jupyter-widgets/base",
      "model_module_version": "1.2.0",
      "model_name": "LayoutModel",
      "state": {
       "width": "145px"
      }
     },
     "0db9a7a5c4004063bd0532dec50324ae": {
      "model_module": "@jupyter-widgets/base",
      "model_module_version": "1.2.0",
      "model_name": "LayoutModel",
      "state": {
       "margin": "0px 5px 0px 0px",
       "width": "32px"
      }
     },
     "0f29a57695204a24abd466a7b0be7e4b": {
      "model_module": "@jupyter-widgets/base",
      "model_module_version": "1.2.0",
      "model_name": "LayoutModel",
      "state": {
       "width": "95px"
      }
     },
     "10dcc5d957f04fc0bd1417a9fa5c6fd8": {
      "model_module": "@jupyter-widgets/controls",
      "model_module_version": "1.5.0",
      "model_name": "DescriptionStyleModel",
      "state": {
       "description_width": ""
      }
     },
     "11e29239e52d4a9ea861164364d9516a": {
      "model_module": "@jupyter-widgets/base",
      "model_module_version": "1.2.0",
      "model_name": "LayoutModel",
      "state": {
       "width": "145px"
      }
     },
     "1233c86b40214cbf86c8c06a1d00fddb": {
      "model_module": "@jupyter-widgets/controls",
      "model_module_version": "1.5.0",
      "model_name": "DescriptionStyleModel",
      "state": {
       "description_width": ""
      }
     },
     "1315776c0d4346b0b7f5d81deadf951f": {
      "model_module": "@jupyter-widgets/base",
      "model_module_version": "1.2.0",
      "model_name": "LayoutModel",
      "state": {
       "max_width": "700px",
       "min_width": "700px"
      }
     },
     "1331530934114a7eacebf23324310e4c": {
      "model_module": "@jupyter-widgets/controls",
      "model_module_version": "1.5.0",
      "model_name": "ButtonStyleModel",
      "state": {
       "button_color": "white"
      }
     },
     "134886bad9b542929c5d9425fa23e123": {
      "model_module": "@jupyter-widgets/controls",
      "model_module_version": "1.5.0",
      "model_name": "ButtonModel",
      "state": {
       "icon": "close",
       "layout": "IPY_MODEL_55eb2d7b22bc4758b1f2046ee7381129",
       "style": "IPY_MODEL_07fa27b5fe8848f69184a75c8592f33e"
      }
     },
     "14131c2454cb4510a98b25a52378eb23": {
      "model_module": "@jupyter-widgets/base",
      "model_module_version": "1.2.0",
      "model_name": "LayoutModel",
      "state": {
       "width": "145px"
      }
     },
     "153780ee4e5f4d3b95b1a84174b0bf91": {
      "model_module": "@jupyter-widgets/base",
      "model_module_version": "1.2.0",
      "model_name": "LayoutModel",
      "state": {
       "overflow_x": "scroll"
      }
     },
     "18a2a8bfb7414df8b84606f04af4688e": {
      "model_module": "@jupyter-widgets/base",
      "model_module_version": "1.2.0",
      "model_name": "LayoutModel",
      "state": {
       "overflow_x": "scroll"
      }
     },
     "18b479d6d1894c78a66e1df0bb77f39a": {
      "model_module": "@jupyter-widgets/controls",
      "model_module_version": "1.5.0",
      "model_name": "DescriptionStyleModel",
      "state": {
       "description_width": ""
      }
     },
     "18c67580b41c49098a378a17155902ee": {
      "model_module": "@jupyter-widgets/base",
      "model_module_version": "1.2.0",
      "model_name": "LayoutModel",
      "state": {
       "width": "190px"
      }
     },
     "191521f5c99f4f72a521c6bcbc0f283a": {
      "model_module": "@jupyter-widgets/controls",
      "model_module_version": "1.5.0",
      "model_name": "DescriptionStyleModel",
      "state": {
       "description_width": ""
      }
     },
     "1a37d65c04734ee3a248df31808ff91c": {
      "model_module": "@jupyter-widgets/controls",
      "model_module_version": "1.5.0",
      "model_name": "HTMLModel",
      "state": {
       "layout": "IPY_MODEL_11e29239e52d4a9ea861164364d9516a",
       "style": "IPY_MODEL_1d878dadfe8948d5bc371acc3120d726",
       "value": "ibm_oslo"
      }
     },
     "1b3fc297a8f242859cae21563a002793": {
      "model_module": "@jupyter-widgets/controls",
      "model_module_version": "1.5.0",
      "model_name": "ButtonModel",
      "state": {
       "icon": "close",
       "layout": "IPY_MODEL_5265bf65dbd544aaaa5f8a4e26785084",
       "style": "IPY_MODEL_5cfe4c48b45f48718315d4aef1287429"
      }
     },
     "1b70249b62cf443ebe638223b92608ce": {
      "model_module": "@jupyter-widgets/controls",
      "model_module_version": "1.5.0",
      "model_name": "HBoxModel",
      "state": {
       "children": [
        "IPY_MODEL_4297fbbe3000496e829f419c30ef101a",
        "IPY_MODEL_affc9fc1182845c5961259f02b2a80a7",
        "IPY_MODEL_883e9b880f374f998a62493a68abd65c",
        "IPY_MODEL_5f86f106e71446a2a2463c838c539f95",
        "IPY_MODEL_36d9c9d21f53402ba759e50ddb28c2d6",
        "IPY_MODEL_af8a4fafefcb4175b8848f5dbaba3bcd"
       ],
       "layout": "IPY_MODEL_f53153cdae344d86b7e1da00e61ac988"
      }
     },
     "1b93d70577da412eb3519d1d82d0fd6d": {
      "model_module": "@jupyter-widgets/base",
      "model_module_version": "1.2.0",
      "model_name": "LayoutModel",
      "state": {
       "width": "95px"
      }
     },
     "1ba2bb07945f4b31b30cd6128b21ef39": {
      "model_module": "@jupyter-widgets/controls",
      "model_module_version": "1.5.0",
      "model_name": "HBoxModel",
      "state": {
       "children": [
        "IPY_MODEL_3260247c42884f1ca7ee463ba6d00965",
        "IPY_MODEL_e1cd5c31db8a4d808446e81ac5ca5f91",
        "IPY_MODEL_6e0ff4c042d54bbf971e064939705fc4",
        "IPY_MODEL_6df137e3027c40d1ad4acb6ad387832e",
        "IPY_MODEL_9173ce556df44eb092c272079a92fe2d",
        "IPY_MODEL_0af046e83adf49a6b54ba9b6181a474c"
       ],
       "layout": "IPY_MODEL_33adaeab02cc4364a66715075d8a711c"
      }
     },
     "1c4b7de647a649b8a82631e3ad7a984b": {
      "model_module": "@jupyter-widgets/controls",
      "model_module_version": "1.5.0",
      "model_name": "DescriptionStyleModel",
      "state": {
       "description_width": ""
      }
     },
     "1c65f4a70dc34f398f6b6bec123a9276": {
      "model_module": "@jupyter-widgets/controls",
      "model_module_version": "1.5.0",
      "model_name": "ButtonStyleModel",
      "state": {
       "button_color": "white"
      }
     },
     "1cde7d6ea52a4001ac107abb191c5bae": {
      "model_module": "@jupyter-widgets/controls",
      "model_module_version": "1.5.0",
      "model_name": "ButtonModel",
      "state": {
       "icon": "close",
       "layout": "IPY_MODEL_88dc0f8977424ac1a6464fa26a799691",
       "style": "IPY_MODEL_1c65f4a70dc34f398f6b6bec123a9276"
      }
     },
     "1d1d860f7e1d46ada0101f3c93f9fed6": {
      "model_module": "@jupyter-widgets/base",
      "model_module_version": "1.2.0",
      "model_name": "LayoutModel",
      "state": {
       "grid_area": "right",
       "padding": "0px 0px 0px 0px",
       "width": "70px"
      }
     },
     "1d878dadfe8948d5bc371acc3120d726": {
      "model_module": "@jupyter-widgets/controls",
      "model_module_version": "1.5.0",
      "model_name": "DescriptionStyleModel",
      "state": {
       "description_width": ""
      }
     },
     "1d9b999c787340689a0250c3bb135297": {
      "model_module": "@jupyter-widgets/controls",
      "model_module_version": "1.5.0",
      "model_name": "DescriptionStyleModel",
      "state": {
       "description_width": ""
      }
     },
     "1e5b8bb933d84c68aba3619cbc6e7953": {
      "model_module": "@jupyter-widgets/controls",
      "model_module_version": "1.5.0",
      "model_name": "DescriptionStyleModel",
      "state": {
       "description_width": ""
      }
     },
     "1f6c831d2e074ebeb61164582f32764a": {
      "model_module": "@jupyter-widgets/base",
      "model_module_version": "1.2.0",
      "model_name": "LayoutModel",
      "state": {
       "overflow_x": "scroll"
      }
     },
     "205459ffd6884ddbbb85996623ab5dc1": {
      "model_module": "@jupyter-widgets/controls",
      "model_module_version": "1.5.0",
      "model_name": "HTMLModel",
      "state": {
       "layout": "IPY_MODEL_924d5ee6612d492cad1c4eead0f1a48e",
       "style": "IPY_MODEL_03069d74921748dfa87a76da5b390efd",
       "value": "-"
      }
     },
     "21068a9aa8504d4e9d6c14fbcd162649": {
      "model_module": "@jupyter-widgets/base",
      "model_module_version": "1.2.0",
      "model_name": "LayoutModel",
      "state": {
       "margin": "0px 5px 0px 0px",
       "width": "32px"
      }
     },
     "2111a23e89ec41959189fa017f426dd6": {
      "model_module": "@jupyter-widgets/base",
      "model_module_version": "1.2.0",
      "model_name": "LayoutModel",
      "state": {
       "grid_template_areas": "\n                                       \". . . . right \"\n                                        ",
       "grid_template_columns": "20% 20% 20% 20% 20%",
       "width": "100%"
      }
     },
     "21a2591437fe4ec9a9037f6d33e18360": {
      "model_module": "@jupyter-widgets/controls",
      "model_module_version": "1.5.0",
      "model_name": "DescriptionStyleModel",
      "state": {
       "description_width": ""
      }
     },
     "2be5776a5c7a48a0b163479da10cd1e7": {
      "model_module": "@jupyter-widgets/controls",
      "model_module_version": "1.5.0",
      "model_name": "DescriptionStyleModel",
      "state": {
       "description_width": ""
      }
     },
     "2c6e2631148c4364961fe0287771f6dd": {
      "model_module": "@jupyter-widgets/controls",
      "model_module_version": "1.5.0",
      "model_name": "ButtonModel",
      "state": {
       "icon": "close",
       "layout": "IPY_MODEL_f90763f659a744cfafeb7fcd65422c7b",
       "style": "IPY_MODEL_a930d21192eb429dbcfcd01d73aeca37"
      }
     },
     "2cb09a10493e4a218b2de157fd30b5a8": {
      "model_module": "@jupyter-widgets/controls",
      "model_module_version": "1.5.0",
      "model_name": "DescriptionStyleModel",
      "state": {
       "description_width": ""
      }
     },
     "300a222834404447a2748f730b510b7d": {
      "model_module": "@jupyter-widgets/controls",
      "model_module_version": "1.5.0",
      "model_name": "HTMLModel",
      "state": {
       "layout": "IPY_MODEL_5fd70ea5d1cf4e6a848623c30e417a92",
       "style": "IPY_MODEL_07a43b200460460684707b555ee43991",
       "value": "<h5>Backend</h5>"
      }
     },
     "301734a4b7854f9495a076c801ee1444": {
      "model_module": "@jupyter-widgets/controls",
      "model_module_version": "1.5.0",
      "model_name": "HTMLModel",
      "state": {
       "layout": "IPY_MODEL_18a2a8bfb7414df8b84606f04af4688e",
       "style": "IPY_MODEL_98d136e2ba374a669e5abba4cb0de1ad",
       "value": "job has successfully run"
      }
     },
     "3163d5bbe7384a45b08bbba38f2790a7": {
      "model_module": "@jupyter-widgets/controls",
      "model_module_version": "1.5.0",
      "model_name": "DescriptionStyleModel",
      "state": {
       "description_width": ""
      }
     },
     "32003b26820d41238ce632c745725845": {
      "model_module": "@jupyter-widgets/controls",
      "model_module_version": "1.5.0",
      "model_name": "DescriptionStyleModel",
      "state": {
       "description_width": ""
      }
     },
     "3260247c42884f1ca7ee463ba6d00965": {
      "model_module": "@jupyter-widgets/controls",
      "model_module_version": "1.5.0",
      "model_name": "ButtonModel",
      "state": {
       "icon": "close",
       "layout": "IPY_MODEL_cca64a2c16bb4fa19210c131ab5eb40a",
       "style": "IPY_MODEL_4f5c58fac4a8473b993c652c11353999"
      }
     },
     "32c6a21356074cadaebae2353c900391": {
      "model_module": "@jupyter-widgets/controls",
      "model_module_version": "1.5.0",
      "model_name": "DescriptionStyleModel",
      "state": {
       "description_width": ""
      }
     },
     "33adaeab02cc4364a66715075d8a711c": {
      "model_module": "@jupyter-widgets/base",
      "model_module_version": "1.2.0",
      "model_name": "LayoutModel",
      "state": {
       "max_width": "700px",
       "min_width": "700px"
      }
     },
     "363d58b1c44d4dba81add0d09ffa2f86": {
      "model_module": "@jupyter-widgets/base",
      "model_module_version": "1.2.0",
      "model_name": "LayoutModel",
      "state": {
       "width": "190px"
      }
     },
     "36d9c9d21f53402ba759e50ddb28c2d6": {
      "model_module": "@jupyter-widgets/controls",
      "model_module_version": "1.5.0",
      "model_name": "HTMLModel",
      "state": {
       "layout": "IPY_MODEL_45e0df71af3d4e0eba277d84e47a60f5",
       "style": "IPY_MODEL_d22bb339f85c4985aa86795a460720da",
       "value": "-"
      }
     },
     "371568dd7fc348fe970e1cd6bf0a8767": {
      "model_module": "@jupyter-widgets/controls",
      "model_module_version": "1.5.0",
      "model_name": "HBoxModel",
      "state": {
       "children": [
        "IPY_MODEL_dc0245921cbb4a98bd6b40309ab269cc",
        "IPY_MODEL_877a05ab6e044c90890542e2e148201f",
        "IPY_MODEL_583c3f52408b49c8852ad1518854c517",
        "IPY_MODEL_fbceb959009940a39ad1baa21dd7a882",
        "IPY_MODEL_88f365e7236d4f758e4cdbdcb738f775",
        "IPY_MODEL_cd8d58527dda445e98693f144b407255"
       ],
       "layout": "IPY_MODEL_889af0726f2740578f749aef992b62cd"
      }
     },
     "3802679f0a16415886511046d85ea416": {
      "model_module": "@jupyter-widgets/controls",
      "model_module_version": "1.5.0",
      "model_name": "HTMLModel",
      "state": {
       "layout": "IPY_MODEL_6a46519dd9ab4825b303cae64772b0f4",
       "style": "IPY_MODEL_4a8d0bd423974c978ae0a1ed1cc64bfd",
       "value": "<font style='color:#34BC6E'>DONE</font>"
      }
     },
     "38bd3faaf18e45d1b39b63a9d6a2616d": {
      "model_module": "@jupyter-widgets/controls",
      "model_module_version": "1.5.0",
      "model_name": "GridBoxModel",
      "state": {
       "children": [
        "IPY_MODEL_e2ddb34c366e4b8d98bd0fa71872fb11"
       ],
       "layout": "IPY_MODEL_2111a23e89ec41959189fa017f426dd6"
      }
     },
     "38f14c781112406bbf34c3d0e9a162a9": {
      "model_module": "@jupyter-widgets/controls",
      "model_module_version": "1.5.0",
      "model_name": "HBoxModel",
      "state": {
       "children": [
        "IPY_MODEL_c78e2cf81bf4408c864bb460031a561a",
        "IPY_MODEL_68bb44f983e24556b491750344c1f63f",
        "IPY_MODEL_4017a1872cc54d16a2b9e29be54ab30a",
        "IPY_MODEL_52a61f7e5699414da17b9c9f54b67821",
        "IPY_MODEL_39bec30870a5422c94f7030f3ad22335",
        "IPY_MODEL_6f179ca86ed8406eb7c10c41c2422d0f"
       ],
       "layout": "IPY_MODEL_b7d44214aaa34d1cb329d15ef2ce26d7"
      }
     },
     "39bec30870a5422c94f7030f3ad22335": {
      "model_module": "@jupyter-widgets/controls",
      "model_module_version": "1.5.0",
      "model_name": "HTMLModel",
      "state": {
       "layout": "IPY_MODEL_7eb8590f201944cd88ec2b36433c53b5",
       "style": "IPY_MODEL_a0cab6d5bbee4266a1af97b5b3e0fb35",
       "value": "-"
      }
     },
     "3c76a7fd96c04849af30cfecdbdda8d2": {
      "model_module": "@jupyter-widgets/controls",
      "model_module_version": "1.5.0",
      "model_name": "DescriptionStyleModel",
      "state": {
       "description_width": ""
      }
     },
     "4017a1872cc54d16a2b9e29be54ab30a": {
      "model_module": "@jupyter-widgets/controls",
      "model_module_version": "1.5.0",
      "model_name": "HTMLModel",
      "state": {
       "layout": "IPY_MODEL_4b2081daebfe45dd8d8e87038183d879",
       "style": "IPY_MODEL_ec8cc1e2744744edbe3878b52538846f",
       "value": "ibm_oslo"
      }
     },
     "4199c56f1fb7467fb0ef5556d06f5c1d": {
      "model_module": "@jupyter-widgets/controls",
      "model_module_version": "1.5.0",
      "model_name": "HTMLModel",
      "state": {
       "layout": "IPY_MODEL_9c74bdcac3304b808c90be523c99868e",
       "style": "IPY_MODEL_51147674a04b4d4bacd0bbcff073e581",
       "value": "<h5>Queue</h5>"
      }
     },
     "4201897cbdb24a67b186bfe92c855d01": {
      "model_module": "@jupyter-widgets/controls",
      "model_module_version": "1.5.0",
      "model_name": "ButtonModel",
      "state": {
       "icon": "close",
       "layout": "IPY_MODEL_21068a9aa8504d4e9d6c14fbcd162649",
       "style": "IPY_MODEL_1331530934114a7eacebf23324310e4c"
      }
     },
     "4297fbbe3000496e829f419c30ef101a": {
      "model_module": "@jupyter-widgets/controls",
      "model_module_version": "1.5.0",
      "model_name": "ButtonModel",
      "state": {
       "icon": "close",
       "layout": "IPY_MODEL_b4ddd8f2b6b24a93b7a4e9df0be08e0d",
       "style": "IPY_MODEL_b893ee42cf1541ba87912b8e3069f507"
      }
     },
     "44f1623c9544456c833afe3b081f92bf": {
      "model_module": "@jupyter-widgets/controls",
      "model_module_version": "1.5.0",
      "model_name": "DescriptionStyleModel",
      "state": {
       "description_width": ""
      }
     },
     "4534eb47f7094d068437879f09e51352": {
      "model_module": "@jupyter-widgets/base",
      "model_module_version": "1.2.0",
      "model_name": "LayoutModel",
      "state": {
       "width": "190px"
      }
     },
     "45cb70a47ef545069e48dfa2757aed52": {
      "model_module": "@jupyter-widgets/controls",
      "model_module_version": "1.5.0",
      "model_name": "DescriptionStyleModel",
      "state": {
       "description_width": ""
      }
     },
     "45d52ed2f20b43bbaf3c6e49f549b933": {
      "model_module": "@jupyter-widgets/controls",
      "model_module_version": "1.5.0",
      "model_name": "DescriptionStyleModel",
      "state": {
       "description_width": ""
      }
     },
     "45e0df71af3d4e0eba277d84e47a60f5": {
      "model_module": "@jupyter-widgets/base",
      "model_module_version": "1.2.0",
      "model_name": "LayoutModel",
      "state": {
       "width": "70px"
      }
     },
     "46eb2b0a22c94f84b24404035184ee1d": {
      "model_module": "@jupyter-widgets/controls",
      "model_module_version": "1.5.0",
      "model_name": "DescriptionStyleModel",
      "state": {
       "description_width": ""
      }
     },
     "4a2d030c405842d5a7e39ed37ecb170c": {
      "model_module": "@jupyter-widgets/controls",
      "model_module_version": "1.5.0",
      "model_name": "HTMLModel",
      "state": {
       "layout": "IPY_MODEL_6044c0ce0c944591812947918da43921",
       "style": "IPY_MODEL_d59a6c776c0a4502a9ffa76607a2ed6c",
       "value": "<font style='color:#34BC6E'>DONE</font>"
      }
     },
     "4a8d0bd423974c978ae0a1ed1cc64bfd": {
      "model_module": "@jupyter-widgets/controls",
      "model_module_version": "1.5.0",
      "model_name": "DescriptionStyleModel",
      "state": {
       "description_width": ""
      }
     },
     "4b2081daebfe45dd8d8e87038183d879": {
      "model_module": "@jupyter-widgets/base",
      "model_module_version": "1.2.0",
      "model_name": "LayoutModel",
      "state": {
       "width": "145px"
      }
     },
     "4c6ffba037954a7f8afadd0f1128ab0a": {
      "model_module": "@jupyter-widgets/controls",
      "model_module_version": "1.5.0",
      "model_name": "HTMLModel",
      "state": {
       "layout": "IPY_MODEL_a975bbe2976643dea9f85e3cd7e6a623",
       "style": "IPY_MODEL_45d52ed2f20b43bbaf3c6e49f549b933",
       "value": "job has successfully run"
      }
     },
     "4ec9a6edac5c423ba9a542d6f02c919b": {
      "model_module": "@jupyter-widgets/base",
      "model_module_version": "1.2.0",
      "model_name": "LayoutModel",
      "state": {
       "margin": "0px 5px 0px 0px",
       "width": "32px"
      }
     },
     "4f558bccbb7041a798ff6d7408003170": {
      "model_module": "@jupyter-widgets/base",
      "model_module_version": "1.2.0",
      "model_name": "LayoutModel",
      "state": {
       "overflow_x": "scroll"
      }
     },
     "4f5c58fac4a8473b993c652c11353999": {
      "model_module": "@jupyter-widgets/controls",
      "model_module_version": "1.5.0",
      "model_name": "ButtonStyleModel",
      "state": {
       "button_color": "white"
      }
     },
     "4fe1e442718945d2bc05c52ded7e1211": {
      "model_module": "@jupyter-widgets/base",
      "model_module_version": "1.2.0",
      "model_name": "LayoutModel",
      "state": {
       "width": "190px"
      }
     },
     "51147674a04b4d4bacd0bbcff073e581": {
      "model_module": "@jupyter-widgets/controls",
      "model_module_version": "1.5.0",
      "model_name": "DescriptionStyleModel",
      "state": {
       "description_width": ""
      }
     },
     "512146af0a9f4a2d99f8a7b611d1f2c6": {
      "model_module": "@jupyter-widgets/controls",
      "model_module_version": "1.5.0",
      "model_name": "HTMLModel",
      "state": {
       "layout": "IPY_MODEL_d3a6fdbb15a846438b92f9c45cbaf886",
       "style": "IPY_MODEL_793df469f11340b483ce52e608e249f1",
       "value": "ibm_oslo"
      }
     },
     "52243e833cf1438497cf0f686346522b": {
      "model_module": "@jupyter-widgets/controls",
      "model_module_version": "1.5.0",
      "model_name": "DescriptionStyleModel",
      "state": {
       "description_width": ""
      }
     },
     "5265bf65dbd544aaaa5f8a4e26785084": {
      "model_module": "@jupyter-widgets/base",
      "model_module_version": "1.2.0",
      "model_name": "LayoutModel",
      "state": {
       "margin": "0px 5px 0px 0px",
       "width": "32px"
      }
     },
     "52a61f7e5699414da17b9c9f54b67821": {
      "model_module": "@jupyter-widgets/controls",
      "model_module_version": "1.5.0",
      "model_name": "HTMLModel",
      "state": {
       "layout": "IPY_MODEL_02049fd867404fbdbcb55daaf621e8e3",
       "style": "IPY_MODEL_0b9a431b5ddc43378169a84b7ba450f9",
       "value": "<font style='color:#34BC6E'>DONE</font>"
      }
     },
     "5377e00980314f56b4b1cf469678a48f": {
      "model_module": "@jupyter-widgets/base",
      "model_module_version": "1.2.0",
      "model_name": "LayoutModel",
      "state": {
       "width": "95px"
      }
     },
     "5484af7a1d8a4202820f9b3f931b6185": {
      "model_module": "@jupyter-widgets/controls",
      "model_module_version": "1.5.0",
      "model_name": "HTMLModel",
      "state": {
       "layout": "IPY_MODEL_f08491e3c414437b8df77903418c1b06",
       "style": "IPY_MODEL_cac71537887c48e49df3a2a7773bc4df",
       "value": "job has successfully run"
      }
     },
     "54b6a86c7e824a14bb7e763df9d264ff": {
      "model_module": "@jupyter-widgets/controls",
      "model_module_version": "1.5.0",
      "model_name": "HTMLModel",
      "state": {
       "layout": "IPY_MODEL_8436dd62457244c6acd57cb4d0c6a58b",
       "style": "IPY_MODEL_18b479d6d1894c78a66e1df0bb77f39a",
       "value": "-"
      }
     },
     "55b9c171062744f481cf3c112b33af3e": {
      "model_module": "@jupyter-widgets/controls",
      "model_module_version": "1.5.0",
      "model_name": "ButtonStyleModel",
      "state": {}
     },
     "55eb2d7b22bc4758b1f2046ee7381129": {
      "model_module": "@jupyter-widgets/base",
      "model_module_version": "1.2.0",
      "model_name": "LayoutModel",
      "state": {
       "margin": "0px 5px 0px 0px",
       "width": "32px"
      }
     },
     "56621b311cc2433994a86a1eff996fef": {
      "model_module": "@jupyter-widgets/base",
      "model_module_version": "1.2.0",
      "model_name": "LayoutModel",
      "state": {
       "width": "190px"
      }
     },
     "56cb3a6aaf204660835d85fb72d5f789": {
      "model_module": "@jupyter-widgets/controls",
      "model_module_version": "1.5.0",
      "model_name": "HBoxModel",
      "state": {
       "children": [
        "IPY_MODEL_8cc5255c30a24c7fae706db52b8bceb1",
        "IPY_MODEL_de86c4ed3425435dbe3ccc43e41fde33",
        "IPY_MODEL_1a37d65c04734ee3a248df31808ff91c",
        "IPY_MODEL_d8b7e06b5c714f59990bedb18fc614e9",
        "IPY_MODEL_54b6a86c7e824a14bb7e763df9d264ff",
        "IPY_MODEL_c90340157937482bad940c0016a92959"
       ],
       "layout": "IPY_MODEL_1315776c0d4346b0b7f5d81deadf951f"
      }
     },
     "56db36ac142f4572aa20a555010599b9": {
      "model_module": "@jupyter-widgets/base",
      "model_module_version": "1.2.0",
      "model_name": "LayoutModel",
      "state": {
       "max_width": "700px",
       "min_width": "700px"
      }
     },
     "583c3f52408b49c8852ad1518854c517": {
      "model_module": "@jupyter-widgets/controls",
      "model_module_version": "1.5.0",
      "model_name": "HTMLModel",
      "state": {
       "layout": "IPY_MODEL_b0d90cde6e7844718abf4d69ec408a82",
       "style": "IPY_MODEL_f376fb2a7bb24ddca5afa6e59dd86195",
       "value": "ibm_oslo"
      }
     },
     "5901a68d7b6945d0a8c54b92faf40dce": {
      "model_module": "@jupyter-widgets/base",
      "model_module_version": "1.2.0",
      "model_name": "LayoutModel",
      "state": {
       "width": "145px"
      }
     },
     "59460f18ea1641a980376481e0c9b107": {
      "model_module": "@jupyter-widgets/base",
      "model_module_version": "1.2.0",
      "model_name": "LayoutModel",
      "state": {
       "max_width": "700px",
       "min_width": "700px"
      }
     },
     "5a94e0658d084ca38fcf462241a27bd6": {
      "model_module": "@jupyter-widgets/controls",
      "model_module_version": "1.5.0",
      "model_name": "HTMLModel",
      "state": {
       "layout": "IPY_MODEL_6e550cb283e04539a3ad75fc8bb4c1f3",
       "style": "IPY_MODEL_652868aee59e44de8c5afa7d932defc6",
       "value": "63d5b4a433d8501a3705868e"
      }
     },
     "5cb5b79491ed4370a60d197f67a720a3": {
      "model_module": "@jupyter-widgets/base",
      "model_module_version": "1.2.0",
      "model_name": "LayoutModel",
      "state": {
       "width": "190px"
      }
     },
     "5cfe4c48b45f48718315d4aef1287429": {
      "model_module": "@jupyter-widgets/controls",
      "model_module_version": "1.5.0",
      "model_name": "ButtonStyleModel",
      "state": {
       "button_color": "white"
      }
     },
     "5d800d810e1f4580ab73f532451d4227": {
      "model_module": "@jupyter-widgets/base",
      "model_module_version": "1.2.0",
      "model_name": "LayoutModel",
      "state": {
       "width": "190px"
      }
     },
     "5de7de2b8cd544debab04e502e83d8c7": {
      "model_module": "@jupyter-widgets/controls",
      "model_module_version": "1.5.0",
      "model_name": "DescriptionStyleModel",
      "state": {
       "description_width": ""
      }
     },
     "5f86f106e71446a2a2463c838c539f95": {
      "model_module": "@jupyter-widgets/controls",
      "model_module_version": "1.5.0",
      "model_name": "HTMLModel",
      "state": {
       "layout": "IPY_MODEL_f025492ddf204bc2ae6cc7af4dd70e5e",
       "style": "IPY_MODEL_919676c62e454fcb9ba57fc3baad9e48",
       "value": "<font style='color:#34BC6E'>DONE</font>"
      }
     },
     "5fd70ea5d1cf4e6a848623c30e417a92": {
      "model_module": "@jupyter-widgets/base",
      "model_module_version": "1.2.0",
      "model_name": "LayoutModel",
      "state": {
       "width": "145px"
      }
     },
     "6044c0ce0c944591812947918da43921": {
      "model_module": "@jupyter-widgets/base",
      "model_module_version": "1.2.0",
      "model_name": "LayoutModel",
      "state": {
       "width": "95px"
      }
     },
     "60df8eb4559343b2a72f73a7fd6e7b45": {
      "model_module": "@jupyter-widgets/base",
      "model_module_version": "1.2.0",
      "model_name": "LayoutModel",
      "state": {
       "width": "95px"
      }
     },
     "61f5a821d3f14070b4007e7ef9c20607": {
      "model_module": "@jupyter-widgets/controls",
      "model_module_version": "1.5.0",
      "model_name": "DescriptionStyleModel",
      "state": {
       "description_width": ""
      }
     },
     "6250824514d643cb81f74998c3818871": {
      "model_module": "@jupyter-widgets/controls",
      "model_module_version": "1.5.0",
      "model_name": "DescriptionStyleModel",
      "state": {
       "description_width": ""
      }
     },
     "625594cb11164a00b974e2f1a1060d22": {
      "model_module": "@jupyter-widgets/controls",
      "model_module_version": "1.5.0",
      "model_name": "ButtonModel",
      "state": {
       "icon": "close",
       "layout": "IPY_MODEL_07f542a3bec744d8a41e0e47553a0eba",
       "style": "IPY_MODEL_6ee95414ba1e415f904441079f38155b"
      }
     },
     "635414ae3bf34d59aa01086efbcab4e8": {
      "model_module": "@jupyter-widgets/controls",
      "model_module_version": "1.5.0",
      "model_name": "ButtonStyleModel",
      "state": {
       "button_color": "white"
      }
     },
     "63a211a7132245c694a1e7136e7b59fa": {
      "model_module": "@jupyter-widgets/controls",
      "model_module_version": "1.5.0",
      "model_name": "HTMLModel",
      "state": {
       "layout": "IPY_MODEL_74d272f80b204406ac85da3c5ca415e0",
       "style": "IPY_MODEL_b66d1a8cf4b446e8971f6dad267981af",
       "value": "<p style='font-family: IBM Plex Sans, Arial, Helvetica, sans-serif; font-size: 20px; font-weight: medium;'>Circuit Properties</p>"
      }
     },
     "652868aee59e44de8c5afa7d932defc6": {
      "model_module": "@jupyter-widgets/controls",
      "model_module_version": "1.5.0",
      "model_name": "DescriptionStyleModel",
      "state": {
       "description_width": ""
      }
     },
     "65fe2f7a9d9846ee861631699838f1a7": {
      "model_module": "@jupyter-widgets/controls",
      "model_module_version": "1.5.0",
      "model_name": "HTMLModel",
      "state": {
       "layout": "IPY_MODEL_07518acb4c7941289807f65cdf37dd26",
       "style": "IPY_MODEL_1233c86b40214cbf86c8c06a1d00fddb",
       "value": "job has successfully run"
      }
     },
     "67c98f7db0284798be11cc66ee7b1f07": {
      "model_module": "@jupyter-widgets/base",
      "model_module_version": "1.2.0",
      "model_name": "LayoutModel",
      "state": {
       "max_width": "700px",
       "min_width": "700px"
      }
     },
     "68bb44f983e24556b491750344c1f63f": {
      "model_module": "@jupyter-widgets/controls",
      "model_module_version": "1.5.0",
      "model_name": "HTMLModel",
      "state": {
       "layout": "IPY_MODEL_5d800d810e1f4580ab73f532451d4227",
       "style": "IPY_MODEL_61f5a821d3f14070b4007e7ef9c20607",
       "value": "63d5b5071820a9203d6fc6df"
      }
     },
     "6a46519dd9ab4825b303cae64772b0f4": {
      "model_module": "@jupyter-widgets/base",
      "model_module_version": "1.2.0",
      "model_name": "LayoutModel",
      "state": {
       "width": "95px"
      }
     },
     "6cdccd08d04f41afabf0d215ffeb18b9": {
      "model_module": "@jupyter-widgets/controls",
      "model_module_version": "1.5.0",
      "model_name": "DescriptionStyleModel",
      "state": {
       "description_width": ""
      }
     },
     "6df137e3027c40d1ad4acb6ad387832e": {
      "model_module": "@jupyter-widgets/controls",
      "model_module_version": "1.5.0",
      "model_name": "HTMLModel",
      "state": {
       "layout": "IPY_MODEL_83eb1b4fc0a94e8b8546ed10938dff41",
       "style": "IPY_MODEL_e2116cda6dfc4383a24a34617fe6c31e",
       "value": "<font style='color:#34BC6E'>DONE</font>"
      }
     },
     "6e0ff4c042d54bbf971e064939705fc4": {
      "model_module": "@jupyter-widgets/controls",
      "model_module_version": "1.5.0",
      "model_name": "HTMLModel",
      "state": {
       "layout": "IPY_MODEL_14131c2454cb4510a98b25a52378eb23",
       "style": "IPY_MODEL_3c76a7fd96c04849af30cfecdbdda8d2",
       "value": "ibm_oslo"
      }
     },
     "6e550cb283e04539a3ad75fc8bb4c1f3": {
      "model_module": "@jupyter-widgets/base",
      "model_module_version": "1.2.0",
      "model_name": "LayoutModel",
      "state": {
       "width": "190px"
      }
     },
     "6ee95414ba1e415f904441079f38155b": {
      "model_module": "@jupyter-widgets/controls",
      "model_module_version": "1.5.0",
      "model_name": "ButtonStyleModel",
      "state": {
       "button_color": "white"
      }
     },
     "6f179ca86ed8406eb7c10c41c2422d0f": {
      "model_module": "@jupyter-widgets/controls",
      "model_module_version": "1.5.0",
      "model_name": "HTMLModel",
      "state": {
       "layout": "IPY_MODEL_e648fe3d770343f0bbde87330718f202",
       "style": "IPY_MODEL_bd2dd7b642554de9bba80d591e73bf10",
       "value": "job has successfully run"
      }
     },
     "6f9b52dc4deb497781436e9a06813c5c": {
      "model_module": "@jupyter-widgets/controls",
      "model_module_version": "1.5.0",
      "model_name": "DescriptionStyleModel",
      "state": {
       "description_width": ""
      }
     },
     "7335966f634b4d338579e29c64f33b3a": {
      "model_module": "@jupyter-widgets/controls",
      "model_module_version": "1.5.0",
      "model_name": "HTMLModel",
      "state": {
       "layout": "IPY_MODEL_4534eb47f7094d068437879f09e51352",
       "style": "IPY_MODEL_e9c2178e431543c9abd006253a528e0a",
       "value": "63d5a9a5392a667a4d7991e4"
      }
     },
     "7352bfecdb83484eb42d3b844b335f7c": {
      "model_module": "@jupyter-widgets/controls",
      "model_module_version": "1.5.0",
      "model_name": "HTMLModel",
      "state": {
       "layout": "IPY_MODEL_153780ee4e5f4d3b95b1a84174b0bf91",
       "style": "IPY_MODEL_a73f95ce2e9144258cdaa24e3c3e9782",
       "value": "job has successfully run"
      }
     },
     "745862a30074443bb743953275094f2d": {
      "model_module": "@jupyter-widgets/base",
      "model_module_version": "1.2.0",
      "model_name": "LayoutModel",
      "state": {
       "max_width": "700px",
       "min_width": "700px"
      }
     },
     "74d272f80b204406ac85da3c5ca415e0": {
      "model_module": "@jupyter-widgets/base",
      "model_module_version": "1.2.0",
      "model_name": "LayoutModel",
      "state": {
       "margin": "0px 0px 10px 0px"
      }
     },
     "75674d82c0a14bbea4c39a52ce9edea8": {
      "model_module": "@jupyter-widgets/base",
      "model_module_version": "1.2.0",
      "model_name": "LayoutModel",
      "state": {
       "margin": "0px 0px 0px 37px",
       "width": "600px"
      }
     },
     "791996a86ae94bb9a8dac6995d056450": {
      "model_module": "@jupyter-widgets/controls",
      "model_module_version": "1.5.0",
      "model_name": "DescriptionStyleModel",
      "state": {
       "description_width": ""
      }
     },
     "793df469f11340b483ce52e608e249f1": {
      "model_module": "@jupyter-widgets/controls",
      "model_module_version": "1.5.0",
      "model_name": "DescriptionStyleModel",
      "state": {
       "description_width": ""
      }
     },
     "7b2d219699dc411cbaa27ae31cc052f4": {
      "model_module": "@jupyter-widgets/base",
      "model_module_version": "1.2.0",
      "model_name": "LayoutModel",
      "state": {
       "overflow_x": "scroll"
      }
     },
     "7c904c6b3b774f1eb6abd5d0daa911ba": {
      "model_module": "@jupyter-widgets/controls",
      "model_module_version": "1.5.0",
      "model_name": "HTMLModel",
      "state": {
       "layout": "IPY_MODEL_ee62fd5bccd24ca8b28aaec3e55877bd",
       "style": "IPY_MODEL_a6017baad8ab4bfe90719824b8cd3fd2",
       "value": "-"
      }
     },
     "7d18407ef0f94dde86424bec200928bf": {
      "model_module": "@jupyter-widgets/controls",
      "model_module_version": "1.5.0",
      "model_name": "HBoxModel",
      "state": {
       "children": [
        "IPY_MODEL_134886bad9b542929c5d9425fa23e123",
        "IPY_MODEL_eb0655be2c6b4b32a1ba9d324ebdccf8",
        "IPY_MODEL_512146af0a9f4a2d99f8a7b611d1f2c6",
        "IPY_MODEL_84874f7cb59f41ff89690e0093574edc",
        "IPY_MODEL_7c904c6b3b774f1eb6abd5d0daa911ba",
        "IPY_MODEL_cfac5f4e03464ec7883cf25695d48724"
       ],
       "layout": "IPY_MODEL_bcad032ab0a04478b78d912b5b876426"
      }
     },
     "7d48423420214613a002f78fb79f7dd3": {
      "model_module": "@jupyter-widgets/controls",
      "model_module_version": "1.5.0",
      "model_name": "HTMLModel",
      "state": {
       "layout": "IPY_MODEL_f3f5bd3f06b74f029550f5478c346cd1",
       "style": "IPY_MODEL_191521f5c99f4f72a521c6bcbc0f283a",
       "value": "-"
      }
     },
     "7eb8590f201944cd88ec2b36433c53b5": {
      "model_module": "@jupyter-widgets/base",
      "model_module_version": "1.2.0",
      "model_name": "LayoutModel",
      "state": {
       "width": "70px"
      }
     },
     "80b3a18033904e8aac5832cdea5e49bb": {
      "model_module": "@jupyter-widgets/base",
      "model_module_version": "1.2.0",
      "model_name": "LayoutModel",
      "state": {
       "width": "70px"
      }
     },
     "80cb8c3ce21a40448863069e45d37a5f": {
      "model_module": "@jupyter-widgets/base",
      "model_module_version": "1.2.0",
      "model_name": "LayoutModel",
      "state": {
       "width": "95px"
      }
     },
     "81b07773429447308c3be93e290f7891": {
      "model_module": "@jupyter-widgets/controls",
      "model_module_version": "1.5.0",
      "model_name": "HBoxModel",
      "state": {
       "children": [
        "IPY_MODEL_1b3fc297a8f242859cae21563a002793",
        "IPY_MODEL_ff89608567c8465ab59abf79d2009245",
        "IPY_MODEL_fa76d7a6167d45098ffd51434fcc2ea7",
        "IPY_MODEL_4a2d030c405842d5a7e39ed37ecb170c",
        "IPY_MODEL_d867b0c6f85c498cbc811907a3724ed0",
        "IPY_MODEL_65fe2f7a9d9846ee861631699838f1a7"
       ],
       "layout": "IPY_MODEL_59460f18ea1641a980376481e0c9b107"
      }
     },
     "82474a8270c240bab60fed15c4e78398": {
      "model_module": "@jupyter-widgets/base",
      "model_module_version": "1.2.0",
      "model_name": "LayoutModel",
      "state": {
       "width": "145px"
      }
     },
     "83eb1b4fc0a94e8b8546ed10938dff41": {
      "model_module": "@jupyter-widgets/base",
      "model_module_version": "1.2.0",
      "model_name": "LayoutModel",
      "state": {
       "width": "95px"
      }
     },
     "84096ca8626441a69977d20bff812d27": {
      "model_module": "@jupyter-widgets/controls",
      "model_module_version": "1.5.0",
      "model_name": "HTMLModel",
      "state": {
       "layout": "IPY_MODEL_f501a17b49c1442f9224d42404d7aeba",
       "style": "IPY_MODEL_1e5b8bb933d84c68aba3619cbc6e7953",
       "value": "-"
      }
     },
     "8436dd62457244c6acd57cb4d0c6a58b": {
      "model_module": "@jupyter-widgets/base",
      "model_module_version": "1.2.0",
      "model_name": "LayoutModel",
      "state": {
       "width": "70px"
      }
     },
     "84874f7cb59f41ff89690e0093574edc": {
      "model_module": "@jupyter-widgets/controls",
      "model_module_version": "1.5.0",
      "model_name": "HTMLModel",
      "state": {
       "layout": "IPY_MODEL_914469ea8be64542b4f6904c1c674eb0",
       "style": "IPY_MODEL_1c4b7de647a649b8a82631e3ad7a984b",
       "value": "<font style='color:#34BC6E'>DONE</font>"
      }
     },
     "877a05ab6e044c90890542e2e148201f": {
      "model_module": "@jupyter-widgets/controls",
      "model_module_version": "1.5.0",
      "model_name": "HTMLModel",
      "state": {
       "layout": "IPY_MODEL_ef9e84e2836148d1b4f94104454f7fc9",
       "style": "IPY_MODEL_1d9b999c787340689a0250c3bb135297",
       "value": "63d5b1e775f7ef15546cd93e"
      }
     },
     "883e9b880f374f998a62493a68abd65c": {
      "model_module": "@jupyter-widgets/controls",
      "model_module_version": "1.5.0",
      "model_name": "HTMLModel",
      "state": {
       "layout": "IPY_MODEL_0c6af001d48846d6bebb5d4055862a28",
       "style": "IPY_MODEL_3163d5bbe7384a45b08bbba38f2790a7",
       "value": "ibm_oslo"
      }
     },
     "889af0726f2740578f749aef992b62cd": {
      "model_module": "@jupyter-widgets/base",
      "model_module_version": "1.2.0",
      "model_name": "LayoutModel",
      "state": {
       "max_width": "700px",
       "min_width": "700px"
      }
     },
     "88dc0f8977424ac1a6464fa26a799691": {
      "model_module": "@jupyter-widgets/base",
      "model_module_version": "1.2.0",
      "model_name": "LayoutModel",
      "state": {
       "margin": "0px 5px 0px 0px",
       "width": "32px"
      }
     },
     "88f365e7236d4f758e4cdbdcb738f775": {
      "model_module": "@jupyter-widgets/controls",
      "model_module_version": "1.5.0",
      "model_name": "HTMLModel",
      "state": {
       "layout": "IPY_MODEL_f3f29690cff64cbf92cf044a94361783",
       "style": "IPY_MODEL_c05ebf96bb2644509138e23f7a974ac2",
       "value": "-"
      }
     },
     "8a7b32c38d3c46a7942a134cefc1f792": {
      "model_module": "@jupyter-widgets/controls",
      "model_module_version": "1.5.0",
      "model_name": "HTMLModel",
      "state": {
       "layout": "IPY_MODEL_1b93d70577da412eb3519d1d82d0fd6d",
       "style": "IPY_MODEL_a8fe1878941245b8b51f01e60f86bb53",
       "value": "<font style='color:#34BC6E'>DONE</font>"
      }
     },
     "8cc5255c30a24c7fae706db52b8bceb1": {
      "model_module": "@jupyter-widgets/controls",
      "model_module_version": "1.5.0",
      "model_name": "ButtonModel",
      "state": {
       "icon": "close",
       "layout": "IPY_MODEL_cb4c10ec4317466891ceed69c189ca1a",
       "style": "IPY_MODEL_f45f5e9e794b470384011da0dae0445b"
      }
     },
     "8d4019aabf9d4c66ae8af4de0fb30e31": {
      "model_module": "@jupyter-widgets/controls",
      "model_module_version": "1.5.0",
      "model_name": "HBoxModel",
      "state": {
       "children": [
        "IPY_MODEL_d88b0c1c94d64b2d83c4e9f42918adb7",
        "IPY_MODEL_bcd88ae12fa947e4b38cec67610e869d",
        "IPY_MODEL_ec22208af136468c98191ea8a7c62d28",
        "IPY_MODEL_8eb4b0f559e94c2bb00dc463345ab7be",
        "IPY_MODEL_8fd98db6531541c8ab5a5da4ef619d46",
        "IPY_MODEL_c63de01d530f4e8ba15a135b1732e90d"
       ],
       "layout": "IPY_MODEL_56db36ac142f4572aa20a555010599b9"
      }
     },
     "8d8f54d7815b45d5abb4f36d75a8bfb7": {
      "model_module": "@jupyter-widgets/controls",
      "model_module_version": "1.5.0",
      "model_name": "HTMLModel",
      "state": {
       "layout": "IPY_MODEL_5377e00980314f56b4b1cf469678a48f",
       "style": "IPY_MODEL_e4bdc588491a49ed851b2683d8876c6f",
       "value": "<font style='color:#34BC6E'>DONE</font>"
      }
     },
     "8eb4b0f559e94c2bb00dc463345ab7be": {
      "model_module": "@jupyter-widgets/controls",
      "model_module_version": "1.5.0",
      "model_name": "HTMLModel",
      "state": {
       "layout": "IPY_MODEL_0f29a57695204a24abd466a7b0be7e4b",
       "style": "IPY_MODEL_32c6a21356074cadaebae2353c900391",
       "value": "<font style='color:#34BC6E'>DONE</font>"
      }
     },
     "8f1d0ab67ee3445bb850c65a2cfb8d1a": {
      "model_module": "@jupyter-widgets/base",
      "model_module_version": "1.2.0",
      "model_name": "LayoutModel",
      "state": {
       "width": "70px"
      }
     },
     "8fd98db6531541c8ab5a5da4ef619d46": {
      "model_module": "@jupyter-widgets/controls",
      "model_module_version": "1.5.0",
      "model_name": "HTMLModel",
      "state": {
       "layout": "IPY_MODEL_bbb92f6c399c45c78983284aa17b72e9",
       "style": "IPY_MODEL_050ad2edfb8b4b9faf5376183bf8a1af",
       "value": "-"
      }
     },
     "90c501cca3b647e0810e5644ffef72ca": {
      "model_module": "@jupyter-widgets/base",
      "model_module_version": "1.2.0",
      "model_name": "LayoutModel",
      "state": {
       "max_width": "700px",
       "min_width": "700px"
      }
     },
     "914469ea8be64542b4f6904c1c674eb0": {
      "model_module": "@jupyter-widgets/base",
      "model_module_version": "1.2.0",
      "model_name": "LayoutModel",
      "state": {
       "width": "95px"
      }
     },
     "9173ce556df44eb092c272079a92fe2d": {
      "model_module": "@jupyter-widgets/controls",
      "model_module_version": "1.5.0",
      "model_name": "HTMLModel",
      "state": {
       "layout": "IPY_MODEL_0a069ffd974f4038b3b17e78eee0591c",
       "style": "IPY_MODEL_10dcc5d957f04fc0bd1417a9fa5c6fd8",
       "value": "-"
      }
     },
     "919676c62e454fcb9ba57fc3baad9e48": {
      "model_module": "@jupyter-widgets/controls",
      "model_module_version": "1.5.0",
      "model_name": "DescriptionStyleModel",
      "state": {
       "description_width": ""
      }
     },
     "924d5ee6612d492cad1c4eead0f1a48e": {
      "model_module": "@jupyter-widgets/base",
      "model_module_version": "1.2.0",
      "model_name": "LayoutModel",
      "state": {
       "width": "70px"
      }
     },
     "96ea7e671ae84c4db1a3148bacd2e32c": {
      "model_module": "@jupyter-widgets/controls",
      "model_module_version": "1.5.0",
      "model_name": "DescriptionStyleModel",
      "state": {
       "description_width": ""
      }
     },
     "98d136e2ba374a669e5abba4cb0de1ad": {
      "model_module": "@jupyter-widgets/controls",
      "model_module_version": "1.5.0",
      "model_name": "DescriptionStyleModel",
      "state": {
       "description_width": ""
      }
     },
     "9a87f42046d24fa5a49314a6b2a42186": {
      "model_module": "@jupyter-widgets/controls",
      "model_module_version": "1.5.0",
      "model_name": "DescriptionStyleModel",
      "state": {
       "description_width": ""
      }
     },
     "9b8bb961e77849daa50e09faa20b02fa": {
      "model_module": "@jupyter-widgets/controls",
      "model_module_version": "1.5.0",
      "model_name": "DescriptionStyleModel",
      "state": {
       "description_width": ""
      }
     },
     "9c74bdcac3304b808c90be523c99868e": {
      "model_module": "@jupyter-widgets/base",
      "model_module_version": "1.2.0",
      "model_name": "LayoutModel",
      "state": {
       "width": "70px"
      }
     },
     "9dbc55579d164f82a33812b9ef406c5a": {
      "model_module": "@jupyter-widgets/controls",
      "model_module_version": "1.5.0",
      "model_name": "DescriptionStyleModel",
      "state": {
       "description_width": ""
      }
     },
     "9e4dcaad486e4b41909eecc73c17fcd2": {
      "model_module": "@jupyter-widgets/controls",
      "model_module_version": "1.5.0",
      "model_name": "DescriptionStyleModel",
      "state": {
       "description_width": ""
      }
     },
     "a0cab6d5bbee4266a1af97b5b3e0fb35": {
      "model_module": "@jupyter-widgets/controls",
      "model_module_version": "1.5.0",
      "model_name": "DescriptionStyleModel",
      "state": {
       "description_width": ""
      }
     },
     "a1905f94c9f846e4a0a5ef67e6968349": {
      "model_module": "@jupyter-widgets/controls",
      "model_module_version": "1.5.0",
      "model_name": "HTMLModel",
      "state": {
       "layout": "IPY_MODEL_bcb95bfc52f543feab4701ddb688562e",
       "style": "IPY_MODEL_00b11355e8334282818274a2b8eccd92",
       "value": "ibm_oslo"
      }
     },
     "a1a3bc8e4dbc40549a852c662b62e088": {
      "model_module": "@jupyter-widgets/base",
      "model_module_version": "1.2.0",
      "model_name": "LayoutModel",
      "state": {
       "overflow_x": "scroll"
      }
     },
     "a3617b07df344b128a5be74d80bfa6cc": {
      "model_module": "@jupyter-widgets/controls",
      "model_module_version": "1.5.0",
      "model_name": "HTMLModel",
      "state": {
       "layout": "IPY_MODEL_00a5fd910c5c44a5ab45d77ea22958e9",
       "style": "IPY_MODEL_6f9b52dc4deb497781436e9a06813c5c",
       "value": "<font style='color:#34BC6E'>DONE</font>"
      }
     },
     "a42918c572f84ecba628efbdca259677": {
      "model_module": "@jupyter-widgets/base",
      "model_module_version": "1.2.0",
      "model_name": "LayoutModel",
      "state": {
       "width": "190px"
      }
     },
     "a6017baad8ab4bfe90719824b8cd3fd2": {
      "model_module": "@jupyter-widgets/controls",
      "model_module_version": "1.5.0",
      "model_name": "DescriptionStyleModel",
      "state": {
       "description_width": ""
      }
     },
     "a73f95ce2e9144258cdaa24e3c3e9782": {
      "model_module": "@jupyter-widgets/controls",
      "model_module_version": "1.5.0",
      "model_name": "DescriptionStyleModel",
      "state": {
       "description_width": ""
      }
     },
     "a8fe1878941245b8b51f01e60f86bb53": {
      "model_module": "@jupyter-widgets/controls",
      "model_module_version": "1.5.0",
      "model_name": "DescriptionStyleModel",
      "state": {
       "description_width": ""
      }
     },
     "a930d21192eb429dbcfcd01d73aeca37": {
      "model_module": "@jupyter-widgets/controls",
      "model_module_version": "1.5.0",
      "model_name": "ButtonStyleModel",
      "state": {
       "button_color": "white"
      }
     },
     "a93c386cb6fa4cb19b5791e6d7faedf3": {
      "model_module": "@jupyter-widgets/controls",
      "model_module_version": "1.5.0",
      "model_name": "HBoxModel",
      "state": {
       "children": [
        "IPY_MODEL_4201897cbdb24a67b186bfe92c855d01",
        "IPY_MODEL_7335966f634b4d338579e29c64f33b3a",
        "IPY_MODEL_e5c70a42f97e470c899b48e9892b6174",
        "IPY_MODEL_3802679f0a16415886511046d85ea416",
        "IPY_MODEL_205459ffd6884ddbbb85996623ab5dc1",
        "IPY_MODEL_7352bfecdb83484eb42d3b844b335f7c"
       ],
       "layout": "IPY_MODEL_67c98f7db0284798be11cc66ee7b1f07"
      }
     },
     "a975bbe2976643dea9f85e3cd7e6a623": {
      "model_module": "@jupyter-widgets/base",
      "model_module_version": "1.2.0",
      "model_name": "LayoutModel",
      "state": {
       "overflow_x": "scroll"
      }
     },
     "aaceec4891b148639ca7422ab869a4e3": {
      "model_module": "@jupyter-widgets/controls",
      "model_module_version": "1.5.0",
      "model_name": "DescriptionStyleModel",
      "state": {
       "description_width": ""
      }
     },
     "af8a4fafefcb4175b8848f5dbaba3bcd": {
      "model_module": "@jupyter-widgets/controls",
      "model_module_version": "1.5.0",
      "model_name": "HTMLModel",
      "state": {
       "layout": "IPY_MODEL_1f6c831d2e074ebeb61164582f32764a",
       "style": "IPY_MODEL_9b8bb961e77849daa50e09faa20b02fa",
       "value": "job has successfully run"
      }
     },
     "affc9fc1182845c5961259f02b2a80a7": {
      "model_module": "@jupyter-widgets/controls",
      "model_module_version": "1.5.0",
      "model_name": "HTMLModel",
      "state": {
       "layout": "IPY_MODEL_a42918c572f84ecba628efbdca259677",
       "style": "IPY_MODEL_9a87f42046d24fa5a49314a6b2a42186",
       "value": "63d5b53f48082c6cd9cf6390"
      }
     },
     "b0d90cde6e7844718abf4d69ec408a82": {
      "model_module": "@jupyter-widgets/base",
      "model_module_version": "1.2.0",
      "model_name": "LayoutModel",
      "state": {
       "width": "145px"
      }
     },
     "b1bd971f8948478c98b6d3dd573de3ab": {
      "model_module": "@jupyter-widgets/base",
      "model_module_version": "1.2.0",
      "model_name": "LayoutModel",
      "state": {
       "overflow_x": "scroll"
      }
     },
     "b2bd399ae51d477b82205e172ab0148b": {
      "model_module": "@jupyter-widgets/controls",
      "model_module_version": "1.5.0",
      "model_name": "HTMLModel",
      "state": {
       "layout": "IPY_MODEL_5cb5b79491ed4370a60d197f67a720a3",
       "style": "IPY_MODEL_96ea7e671ae84c4db1a3148bacd2e32c",
       "value": "<h5>Job ID</h5>"
      }
     },
     "b4ddd8f2b6b24a93b7a4e9df0be08e0d": {
      "model_module": "@jupyter-widgets/base",
      "model_module_version": "1.2.0",
      "model_name": "LayoutModel",
      "state": {
       "margin": "0px 5px 0px 0px",
       "width": "32px"
      }
     },
     "b4e8451e312f42daa753f0e497fc2aeb": {
      "model_module": "@jupyter-widgets/base",
      "model_module_version": "1.2.0",
      "model_name": "LayoutModel",
      "state": {
       "width": "95px"
      }
     },
     "b64c70183c7c4a2aa5d8e71138b912d7": {
      "model_module": "@jupyter-widgets/base",
      "model_module_version": "1.2.0",
      "model_name": "LayoutModel",
      "state": {}
     },
     "b66d1a8cf4b446e8971f6dad267981af": {
      "model_module": "@jupyter-widgets/controls",
      "model_module_version": "1.5.0",
      "model_name": "DescriptionStyleModel",
      "state": {
       "description_width": ""
      }
     },
     "b7d44214aaa34d1cb329d15ef2ce26d7": {
      "model_module": "@jupyter-widgets/base",
      "model_module_version": "1.2.0",
      "model_name": "LayoutModel",
      "state": {
       "max_width": "700px",
       "min_width": "700px"
      }
     },
     "b893ee42cf1541ba87912b8e3069f507": {
      "model_module": "@jupyter-widgets/controls",
      "model_module_version": "1.5.0",
      "model_name": "ButtonStyleModel",
      "state": {
       "button_color": "white"
      }
     },
     "bb84e210f7b24c5fb6d966d9c2022e31": {
      "model_module": "@jupyter-widgets/controls",
      "model_module_version": "1.5.0",
      "model_name": "DescriptionStyleModel",
      "state": {
       "description_width": ""
      }
     },
     "bb94a7413ab84207b870a928dd557f38": {
      "model_module": "@jupyter-widgets/controls",
      "model_module_version": "1.5.0",
      "model_name": "DescriptionStyleModel",
      "state": {
       "description_width": ""
      }
     },
     "bbb92f6c399c45c78983284aa17b72e9": {
      "model_module": "@jupyter-widgets/base",
      "model_module_version": "1.2.0",
      "model_name": "LayoutModel",
      "state": {
       "width": "70px"
      }
     },
     "bc365e4126a243d6920687b217596d4b": {
      "model_module": "@jupyter-widgets/controls",
      "model_module_version": "1.5.0",
      "model_name": "HTMLModel",
      "state": {
       "layout": "IPY_MODEL_363d58b1c44d4dba81add0d09ffa2f86",
       "style": "IPY_MODEL_52243e833cf1438497cf0f686346522b",
       "value": "63d5aec7690482b3cb3bcd4a"
      }
     },
     "bcad032ab0a04478b78d912b5b876426": {
      "model_module": "@jupyter-widgets/base",
      "model_module_version": "1.2.0",
      "model_name": "LayoutModel",
      "state": {
       "max_width": "700px",
       "min_width": "700px"
      }
     },
     "bcb95bfc52f543feab4701ddb688562e": {
      "model_module": "@jupyter-widgets/base",
      "model_module_version": "1.2.0",
      "model_name": "LayoutModel",
      "state": {
       "width": "145px"
      }
     },
     "bcd88ae12fa947e4b38cec67610e869d": {
      "model_module": "@jupyter-widgets/controls",
      "model_module_version": "1.5.0",
      "model_name": "HTMLModel",
      "state": {
       "layout": "IPY_MODEL_18c67580b41c49098a378a17155902ee",
       "style": "IPY_MODEL_ee66a5a0096f4a9fbad0d0bb85f16cac",
       "value": "63d5b11b61526487e1d29556"
      }
     },
     "bd2dd7b642554de9bba80d591e73bf10": {
      "model_module": "@jupyter-widgets/controls",
      "model_module_version": "1.5.0",
      "model_name": "DescriptionStyleModel",
      "state": {
       "description_width": ""
      }
     },
     "bdcb62866fa441e0a9f0ec3b00f828c2": {
      "model_module": "@jupyter-widgets/controls",
      "model_module_version": "1.5.0",
      "model_name": "DescriptionStyleModel",
      "state": {
       "description_width": ""
      }
     },
     "c05ebf96bb2644509138e23f7a974ac2": {
      "model_module": "@jupyter-widgets/controls",
      "model_module_version": "1.5.0",
      "model_name": "DescriptionStyleModel",
      "state": {
       "description_width": ""
      }
     },
     "c63de01d530f4e8ba15a135b1732e90d": {
      "model_module": "@jupyter-widgets/controls",
      "model_module_version": "1.5.0",
      "model_name": "HTMLModel",
      "state": {
       "layout": "IPY_MODEL_a1a3bc8e4dbc40549a852c662b62e088",
       "style": "IPY_MODEL_bb84e210f7b24c5fb6d966d9c2022e31",
       "value": "job has successfully run"
      }
     },
     "c65b66a42d7640429b6e9f0c69da38e8": {
      "model_module": "@jupyter-widgets/controls",
      "model_module_version": "1.5.0",
      "model_name": "HTMLModel",
      "state": {
       "layout": "IPY_MODEL_56621b311cc2433994a86a1eff996fef",
       "style": "IPY_MODEL_bdcb62866fa441e0a9f0ec3b00f828c2",
       "value": "63d5b446ed7bc6c5fd896da8"
      }
     },
     "c68fadbedf454ea897f206d96db96a2c": {
      "model_module": "@jupyter-widgets/controls",
      "model_module_version": "1.5.0",
      "model_name": "DescriptionStyleModel",
      "state": {
       "description_width": ""
      }
     },
     "c78e2cf81bf4408c864bb460031a561a": {
      "model_module": "@jupyter-widgets/controls",
      "model_module_version": "1.5.0",
      "model_name": "ButtonModel",
      "state": {
       "icon": "close",
       "layout": "IPY_MODEL_4ec9a6edac5c423ba9a542d6f02c919b",
       "style": "IPY_MODEL_635414ae3bf34d59aa01086efbcab4e8"
      }
     },
     "c90340157937482bad940c0016a92959": {
      "model_module": "@jupyter-widgets/controls",
      "model_module_version": "1.5.0",
      "model_name": "HTMLModel",
      "state": {
       "layout": "IPY_MODEL_7b2d219699dc411cbaa27ae31cc052f4",
       "style": "IPY_MODEL_9dbc55579d164f82a33812b9ef406c5a",
       "value": "job has successfully run"
      }
     },
     "c9472bc602f743c094c47259fabe5fe7": {
      "model_module": "@jupyter-widgets/controls",
      "model_module_version": "1.5.0",
      "model_name": "HTMLModel",
      "state": {
       "layout": "IPY_MODEL_80b3a18033904e8aac5832cdea5e49bb",
       "style": "IPY_MODEL_2cb09a10493e4a218b2de157fd30b5a8",
       "value": "-"
      }
     },
     "c97e1f4c95b64a47bb21d56a537ecc9d": {
      "model_module": "@jupyter-widgets/controls",
      "model_module_version": "1.5.0",
      "model_name": "DescriptionStyleModel",
      "state": {
       "description_width": ""
      }
     },
     "ca000c10bfb54658be1742dc6a9b7f11": {
      "model_module": "@jupyter-widgets/controls",
      "model_module_version": "1.5.0",
      "model_name": "HBoxModel",
      "state": {
       "children": [
        "IPY_MODEL_b2bd399ae51d477b82205e172ab0148b",
        "IPY_MODEL_300a222834404447a2748f730b510b7d",
        "IPY_MODEL_0a14e531ff974bd694314f20765fda6a",
        "IPY_MODEL_4199c56f1fb7467fb0ef5556d06f5c1d",
        "IPY_MODEL_ce40e39d1dfa464aab80a864bec6c8f1"
       ],
       "layout": "IPY_MODEL_75674d82c0a14bbea4c39a52ce9edea8"
      }
     },
     "cac71537887c48e49df3a2a7773bc4df": {
      "model_module": "@jupyter-widgets/controls",
      "model_module_version": "1.5.0",
      "model_name": "DescriptionStyleModel",
      "state": {
       "description_width": ""
      }
     },
     "cb4c10ec4317466891ceed69c189ca1a": {
      "model_module": "@jupyter-widgets/base",
      "model_module_version": "1.2.0",
      "model_name": "LayoutModel",
      "state": {
       "margin": "0px 5px 0px 0px",
       "width": "32px"
      }
     },
     "cca64a2c16bb4fa19210c131ab5eb40a": {
      "model_module": "@jupyter-widgets/base",
      "model_module_version": "1.2.0",
      "model_name": "LayoutModel",
      "state": {
       "margin": "0px 5px 0px 0px",
       "width": "32px"
      }
     },
     "cd8d58527dda445e98693f144b407255": {
      "model_module": "@jupyter-widgets/controls",
      "model_module_version": "1.5.0",
      "model_name": "HTMLModel",
      "state": {
       "layout": "IPY_MODEL_4f558bccbb7041a798ff6d7408003170",
       "style": "IPY_MODEL_5de7de2b8cd544debab04e502e83d8c7",
       "value": "job has successfully run"
      }
     },
     "ce40e39d1dfa464aab80a864bec6c8f1": {
      "model_module": "@jupyter-widgets/controls",
      "model_module_version": "1.5.0",
      "model_name": "HTMLModel",
      "state": {
       "layout": "IPY_MODEL_b64c70183c7c4a2aa5d8e71138b912d7",
       "style": "IPY_MODEL_21a2591437fe4ec9a9037f6d33e18360",
       "value": "<h5>Message</h5>"
      }
     },
     "cf5a1380e1534b4197bddb964b27305e": {
      "model_module": "@jupyter-widgets/controls",
      "model_module_version": "1.5.0",
      "model_name": "ButtonStyleModel",
      "state": {
       "button_color": "white"
      }
     },
     "cfac5f4e03464ec7883cf25695d48724": {
      "model_module": "@jupyter-widgets/controls",
      "model_module_version": "1.5.0",
      "model_name": "HTMLModel",
      "state": {
       "layout": "IPY_MODEL_0a3b947d55584119817b5918b5482ffe",
       "style": "IPY_MODEL_9e4dcaad486e4b41909eecc73c17fcd2",
       "value": "job has successfully run"
      }
     },
     "d22bb339f85c4985aa86795a460720da": {
      "model_module": "@jupyter-widgets/controls",
      "model_module_version": "1.5.0",
      "model_name": "DescriptionStyleModel",
      "state": {
       "description_width": ""
      }
     },
     "d3a6fdbb15a846438b92f9c45cbaf886": {
      "model_module": "@jupyter-widgets/base",
      "model_module_version": "1.2.0",
      "model_name": "LayoutModel",
      "state": {
       "width": "145px"
      }
     },
     "d59a6c776c0a4502a9ffa76607a2ed6c": {
      "model_module": "@jupyter-widgets/controls",
      "model_module_version": "1.5.0",
      "model_name": "DescriptionStyleModel",
      "state": {
       "description_width": ""
      }
     },
     "d5ff45b2de894b829dd4a7b40c72f314": {
      "model_module": "@jupyter-widgets/base",
      "model_module_version": "1.2.0",
      "model_name": "LayoutModel",
      "state": {
       "width": "190px"
      }
     },
     "d867b0c6f85c498cbc811907a3724ed0": {
      "model_module": "@jupyter-widgets/controls",
      "model_module_version": "1.5.0",
      "model_name": "HTMLModel",
      "state": {
       "layout": "IPY_MODEL_8f1d0ab67ee3445bb850c65a2cfb8d1a",
       "style": "IPY_MODEL_c68fadbedf454ea897f206d96db96a2c",
       "value": "-"
      }
     },
     "d88b0c1c94d64b2d83c4e9f42918adb7": {
      "model_module": "@jupyter-widgets/controls",
      "model_module_version": "1.5.0",
      "model_name": "ButtonModel",
      "state": {
       "icon": "close",
       "layout": "IPY_MODEL_de9db532d9764aa5b0ab7db727b16398",
       "style": "IPY_MODEL_fc5314c992da4bedbf71b731564539a9"
      }
     },
     "d8b7e06b5c714f59990bedb18fc614e9": {
      "model_module": "@jupyter-widgets/controls",
      "model_module_version": "1.5.0",
      "model_name": "HTMLModel",
      "state": {
       "layout": "IPY_MODEL_b4e8451e312f42daa753f0e497fc2aeb",
       "style": "IPY_MODEL_32003b26820d41238ce632c745725845",
       "value": "<font style='color:#34BC6E'>DONE</font>"
      }
     },
     "dc0245921cbb4a98bd6b40309ab269cc": {
      "model_module": "@jupyter-widgets/controls",
      "model_module_version": "1.5.0",
      "model_name": "ButtonModel",
      "state": {
       "icon": "close",
       "layout": "IPY_MODEL_0db9a7a5c4004063bd0532dec50324ae",
       "style": "IPY_MODEL_cf5a1380e1534b4197bddb964b27305e"
      }
     },
     "dc26e043fc6c4f73a1daff85eb35622f": {
      "model_module": "@jupyter-widgets/base",
      "model_module_version": "1.2.0",
      "model_name": "LayoutModel",
      "state": {
       "max_width": "700px",
       "min_width": "700px"
      }
     },
     "de86c4ed3425435dbe3ccc43e41fde33": {
      "model_module": "@jupyter-widgets/controls",
      "model_module_version": "1.5.0",
      "model_name": "HTMLModel",
      "state": {
       "layout": "IPY_MODEL_f97fea987e3447cd805e946c6404fe97",
       "style": "IPY_MODEL_aaceec4891b148639ca7422ab869a4e3",
       "value": "63d5ae10ed7bc66262896d8f"
      }
     },
     "de9db532d9764aa5b0ab7db727b16398": {
      "model_module": "@jupyter-widgets/base",
      "model_module_version": "1.2.0",
      "model_name": "LayoutModel",
      "state": {
       "margin": "0px 5px 0px 0px",
       "width": "32px"
      }
     },
     "e1cd5c31db8a4d808446e81ac5ca5f91": {
      "model_module": "@jupyter-widgets/controls",
      "model_module_version": "1.5.0",
      "model_name": "HTMLModel",
      "state": {
       "layout": "IPY_MODEL_0579dc14c35743b58627a6d54fa6fe23",
       "style": "IPY_MODEL_46eb2b0a22c94f84b24404035184ee1d",
       "value": "63d5ae4f33d850914005866f"
      }
     },
     "e2116cda6dfc4383a24a34617fe6c31e": {
      "model_module": "@jupyter-widgets/controls",
      "model_module_version": "1.5.0",
      "model_name": "DescriptionStyleModel",
      "state": {
       "description_width": ""
      }
     },
     "e2ddb34c366e4b8d98bd0fa71872fb11": {
      "model_module": "@jupyter-widgets/controls",
      "model_module_version": "1.5.0",
      "model_name": "ButtonModel",
      "state": {
       "button_style": "primary",
       "description": "Clear",
       "layout": "IPY_MODEL_1d1d860f7e1d46ada0101f3c93f9fed6",
       "style": "IPY_MODEL_55b9c171062744f481cf3c112b33af3e"
      }
     },
     "e4bdc588491a49ed851b2683d8876c6f": {
      "model_module": "@jupyter-widgets/controls",
      "model_module_version": "1.5.0",
      "model_name": "DescriptionStyleModel",
      "state": {
       "description_width": ""
      }
     },
     "e5c70a42f97e470c899b48e9892b6174": {
      "model_module": "@jupyter-widgets/controls",
      "model_module_version": "1.5.0",
      "model_name": "HTMLModel",
      "state": {
       "layout": "IPY_MODEL_5901a68d7b6945d0a8c54b92faf40dce",
       "style": "IPY_MODEL_6250824514d643cb81f74998c3818871",
       "value": "ibm_oslo"
      }
     },
     "e648fe3d770343f0bbde87330718f202": {
      "model_module": "@jupyter-widgets/base",
      "model_module_version": "1.2.0",
      "model_name": "LayoutModel",
      "state": {
       "overflow_x": "scroll"
      }
     },
     "e9c2178e431543c9abd006253a528e0a": {
      "model_module": "@jupyter-widgets/controls",
      "model_module_version": "1.5.0",
      "model_name": "DescriptionStyleModel",
      "state": {
       "description_width": ""
      }
     },
     "eb0655be2c6b4b32a1ba9d324ebdccf8": {
      "model_module": "@jupyter-widgets/controls",
      "model_module_version": "1.5.0",
      "model_name": "HTMLModel",
      "state": {
       "layout": "IPY_MODEL_d5ff45b2de894b829dd4a7b40c72f314",
       "style": "IPY_MODEL_bb94a7413ab84207b870a928dd557f38",
       "value": "63d5b16f392a66ea08799200"
      }
     },
     "ec22208af136468c98191ea8a7c62d28": {
      "model_module": "@jupyter-widgets/controls",
      "model_module_version": "1.5.0",
      "model_name": "HTMLModel",
      "state": {
       "layout": "IPY_MODEL_00fd5ac4ff5b49f9847943383b224836",
       "style": "IPY_MODEL_2be5776a5c7a48a0b163479da10cd1e7",
       "value": "ibm_oslo"
      }
     },
     "ec8cc1e2744744edbe3878b52538846f": {
      "model_module": "@jupyter-widgets/controls",
      "model_module_version": "1.5.0",
      "model_name": "DescriptionStyleModel",
      "state": {
       "description_width": ""
      }
     },
     "ee62fd5bccd24ca8b28aaec3e55877bd": {
      "model_module": "@jupyter-widgets/base",
      "model_module_version": "1.2.0",
      "model_name": "LayoutModel",
      "state": {
       "width": "70px"
      }
     },
     "ee66a5a0096f4a9fbad0d0bb85f16cac": {
      "model_module": "@jupyter-widgets/controls",
      "model_module_version": "1.5.0",
      "model_name": "DescriptionStyleModel",
      "state": {
       "description_width": ""
      }
     },
     "ef9e84e2836148d1b4f94104454f7fc9": {
      "model_module": "@jupyter-widgets/base",
      "model_module_version": "1.2.0",
      "model_name": "LayoutModel",
      "state": {
       "width": "190px"
      }
     },
     "f025492ddf204bc2ae6cc7af4dd70e5e": {
      "model_module": "@jupyter-widgets/base",
      "model_module_version": "1.2.0",
      "model_name": "LayoutModel",
      "state": {
       "width": "95px"
      }
     },
     "f08491e3c414437b8df77903418c1b06": {
      "model_module": "@jupyter-widgets/base",
      "model_module_version": "1.2.0",
      "model_name": "LayoutModel",
      "state": {
       "overflow_x": "scroll"
      }
     },
     "f376fb2a7bb24ddca5afa6e59dd86195": {
      "model_module": "@jupyter-widgets/controls",
      "model_module_version": "1.5.0",
      "model_name": "DescriptionStyleModel",
      "state": {
       "description_width": ""
      }
     },
     "f3f29690cff64cbf92cf044a94361783": {
      "model_module": "@jupyter-widgets/base",
      "model_module_version": "1.2.0",
      "model_name": "LayoutModel",
      "state": {
       "width": "70px"
      }
     },
     "f3f5bd3f06b74f029550f5478c346cd1": {
      "model_module": "@jupyter-widgets/base",
      "model_module_version": "1.2.0",
      "model_name": "LayoutModel",
      "state": {
       "width": "70px"
      }
     },
     "f45f5e9e794b470384011da0dae0445b": {
      "model_module": "@jupyter-widgets/controls",
      "model_module_version": "1.5.0",
      "model_name": "ButtonStyleModel",
      "state": {
       "button_color": "white"
      }
     },
     "f501a17b49c1442f9224d42404d7aeba": {
      "model_module": "@jupyter-widgets/base",
      "model_module_version": "1.2.0",
      "model_name": "LayoutModel",
      "state": {
       "width": "70px"
      }
     },
     "f53153cdae344d86b7e1da00e61ac988": {
      "model_module": "@jupyter-widgets/base",
      "model_module_version": "1.2.0",
      "model_name": "LayoutModel",
      "state": {
       "max_width": "700px",
       "min_width": "700px"
      }
     },
     "f6c6efe746bf446b8e687ec2b974adaf": {
      "model_module": "@jupyter-widgets/controls",
      "model_module_version": "1.5.0",
      "model_name": "HTMLModel",
      "state": {
       "layout": "IPY_MODEL_09d70b320c674445ab358cad65f61dcf",
       "style": "IPY_MODEL_6cdccd08d04f41afabf0d215ffeb18b9",
       "value": "ibm_oslo"
      }
     },
     "f753ea382aa847309de3316ef05fb817": {
      "model_module": "@jupyter-widgets/controls",
      "model_module_version": "1.5.0",
      "model_name": "HBoxModel",
      "state": {
       "children": [
        "IPY_MODEL_2c6e2631148c4364961fe0287771f6dd",
        "IPY_MODEL_5a94e0658d084ca38fcf462241a27bd6",
        "IPY_MODEL_a1905f94c9f846e4a0a5ef67e6968349",
        "IPY_MODEL_8d8f54d7815b45d5abb4f36d75a8bfb7",
        "IPY_MODEL_7d48423420214613a002f78fb79f7dd3",
        "IPY_MODEL_5484af7a1d8a4202820f9b3f931b6185"
       ],
       "layout": "IPY_MODEL_dc26e043fc6c4f73a1daff85eb35622f"
      }
     },
     "f90763f659a744cfafeb7fcd65422c7b": {
      "model_module": "@jupyter-widgets/base",
      "model_module_version": "1.2.0",
      "model_name": "LayoutModel",
      "state": {
       "margin": "0px 5px 0px 0px",
       "width": "32px"
      }
     },
     "f97fea987e3447cd805e946c6404fe97": {
      "model_module": "@jupyter-widgets/base",
      "model_module_version": "1.2.0",
      "model_name": "LayoutModel",
      "state": {
       "width": "190px"
      }
     },
     "fa76d7a6167d45098ffd51434fcc2ea7": {
      "model_module": "@jupyter-widgets/controls",
      "model_module_version": "1.5.0",
      "model_name": "HTMLModel",
      "state": {
       "layout": "IPY_MODEL_fd324afa9049498389ddaa6061992d4e",
       "style": "IPY_MODEL_791996a86ae94bb9a8dac6995d056450",
       "value": "ibm_oslo"
      }
     },
     "fac5ae15fa1440fc8ed20c8b137a0a0c": {
      "model_module": "@jupyter-widgets/controls",
      "model_module_version": "1.5.0",
      "model_name": "HTMLModel",
      "state": {
       "layout": "IPY_MODEL_82474a8270c240bab60fed15c4e78398",
       "style": "IPY_MODEL_45cb70a47ef545069e48dfa2757aed52",
       "value": "ibm_oslo"
      }
     },
     "fbceb959009940a39ad1baa21dd7a882": {
      "model_module": "@jupyter-widgets/controls",
      "model_module_version": "1.5.0",
      "model_name": "HTMLModel",
      "state": {
       "layout": "IPY_MODEL_60df8eb4559343b2a72f73a7fd6e7b45",
       "style": "IPY_MODEL_c97e1f4c95b64a47bb21d56a537ecc9d",
       "value": "<font style='color:#34BC6E'>DONE</font>"
      }
     },
     "fc5314c992da4bedbf71b731564539a9": {
      "model_module": "@jupyter-widgets/controls",
      "model_module_version": "1.5.0",
      "model_name": "ButtonStyleModel",
      "state": {
       "button_color": "white"
      }
     },
     "fd324afa9049498389ddaa6061992d4e": {
      "model_module": "@jupyter-widgets/base",
      "model_module_version": "1.2.0",
      "model_name": "LayoutModel",
      "state": {
       "width": "145px"
      }
     },
     "ff89608567c8465ab59abf79d2009245": {
      "model_module": "@jupyter-widgets/controls",
      "model_module_version": "1.5.0",
      "model_name": "HTMLModel",
      "state": {
       "layout": "IPY_MODEL_4fe1e442718945d2bc05c52ded7e1211",
       "style": "IPY_MODEL_44f1623c9544456c833afe3b081f92bf",
       "value": "63d5b7af392a664ffb799221"
      }
     }
    },
    "version_major": 2,
    "version_minor": 0
   }
  }
 },
 "nbformat": 4,
 "nbformat_minor": 5
}
