{
 "cells": [
  {
   "cell_type": "markdown",
   "id": "060d0d87",
   "metadata": {},
   "source": [
    "# Quantum Kernel Methods for Classification using Covalent\n",
    "\n",
    "Using quantum kernels for spam detection.\n",
    "\n",
    "#### Referenced Tutorials\n",
    "1. https://covalent.readthedocs.io/en/latest/tutorials/1_QuantumMachineLearning/classical_quantum_svm/source.html\n",
    "2. https://covalent.readthedocs.io/en/latest/tutorials/1_QuantumMachineLearning/quantum_embedding_kernel/source.html"
   ]
  },
  {
   "cell_type": "code",
   "execution_count": 15,
   "id": "5a5b0e43",
   "metadata": {},
   "outputs": [],
   "source": [
    "import os\n",
    "import pandas as pd\n",
    "import numpy as np\n",
    "import numpy as np\n",
    "from sklearn import decomposition\n",
    "import csv\n",
    "import pickle as pk\n",
    "from process_data import read_data\n",
    "\n",
    "# Import Workflow Manager (Covalent)\n",
    "import covalent as ct\n",
    "\n",
    "# Import plotting library\n",
    "import matplotlib.pyplot as plt\n",
    "\n",
    "# Set global plot background color\n",
    "plt.rcParams[\"figure.facecolor\"] = \"w\"\n",
    "\n",
    "# Import for SVM classifier\n",
    "from sklearn.svm import SVC\n",
    "\n",
    "# Imports for dataset and model selection\n",
    "from sklearn import datasets\n",
    "from sklearn.model_selection import train_test_split\n",
    "from sklearn.metrics import ConfusionMatrixDisplay, confusion_matrix\n",
    "\n",
    "# Imports for QSVC classifier\n",
    "from qiskit import BasicAer\n",
    "from qiskit.circuit.library import ZZFeatureMap\n",
    "from qiskit.utils import QuantumInstance, algorithm_globals\n",
    "from qiskit_machine_learning.kernels import QuantumKernel\n",
    "from qiskit_ibm_runtime import Estimator, QiskitRuntimeService, Session\n",
    "\n",
    "# Set the random seed for QSVC\n",
    "seed = 12345\n",
    "algorithm_globals.random_seed = seed\n",
    "\n",
    "# token to access IBM Quantum compute resources\n",
    "IBM_QUANTUM_TOKEN=\"123456789qwertyuiopzxcvbnmasdfghjkl\""
   ]
  },
  {
   "cell_type": "code",
   "execution_count": 153,
   "id": "99398650",
   "metadata": {},
   "outputs": [],
   "source": [
    "def load_data(nsize=100):\n",
    "    X, y = read_data(\"./data/spambase.csv\", target_features=2)\n",
    "    rand = np.random.permutation(len(y))\n",
    "#     X = X[rand]\n",
    "#     y = y[rand]\n",
    "    x_filename = './data/X.pkl'\n",
    "    y_filename = './data/y.pkl'\n",
    "    with open(x_filename, \"wb\") as fd:\n",
    "        pk.dump(X[::int(len(y)/nsize)], fd)\n",
    "    with open(y_filename, \"wb\") as fd:\n",
    "        pk.dump(y[::int(len(y)/nsize)], fd)\n",
    "    return \n",
    "load_data()"
   ]
  },
  {
   "cell_type": "code",
   "execution_count": 145,
   "id": "55a9796a",
   "metadata": {},
   "outputs": [],
   "source": [
    "# Ancillary functions for SVM classifiers\n",
    "\n",
    "#@ct.electron\n",
    "def get_data():\n",
    "    x_filename = './data/X.pkl'\n",
    "    y_filename = './data/y.pkl'\n",
    "    filex = open(x_filename, 'rb')\n",
    "    X = pk.load(filex)\n",
    "    filey = open(y_filename, 'rb')\n",
    "    y = pk.load(filey)\n",
    "    return X, y\n",
    "\n",
    "\n",
    "#@ct.electron\n",
    "def split_train_test(X, y):\n",
    "    X_train, X_test, y_train, y_test = train_test_split(X, y, test_size=0.25, random_state=0)\n",
    "    return X_train, X_test, y_train, y_test\n",
    "\n",
    "\n",
    "#@ct.electron\n",
    "def train_svc(X_train, y_train):\n",
    "    svc = SVC(kernel=\"linear\")\n",
    "    svc.fit(X_train, y_train)\n",
    "    return svc\n",
    "\n",
    "\n",
    "#@ct.electron\n",
    "# def define_backend():\n",
    "#     QiskitRuntimeService.save_account(channel=\"ibm_quantum\",\n",
    "#                                       token=IBM_QUANTUM_TOKEN,\n",
    "#                                       instance=\"ibm-q-community/mit-hackathon/main\",\n",
    "#                                       overwrite=True)\n",
    "#     return Session(service=QiskitRuntimeService(), backend=\"ibm_oslo\")\n",
    "\n",
    "#@ct.electron\n",
    "def train_qsvc(X_train, y_train):\n",
    "    feature_map = ZZFeatureMap(2, reps=2, entanglement=\"linear\")\n",
    "    backend = QuantumInstance(\n",
    "        BasicAer.get_backend(\"qasm_simulator\"), shots=1024, seed_simulator=seed, seed_transpiler=seed\n",
    "    )\n",
    "    kernel = QuantumKernel(feature_map=feature_map, quantum_instance=backend)\n",
    "    qsvc = SVC(kernel=kernel.evaluate)\n",
    "    qsvc.fit(X_train, y_train)\n",
    "    return qsvc\n",
    "\n",
    "# Main Workflow\n",
    "#@ct.lattice\n",
    "def workflow():\n",
    "    X, y = get_data()\n",
    "    X_train, X_test, y_train, y_test = split_train_test(X=X, y=y)\n",
    "    svc_model = train_svc(X_train=X_train, y_train=y_train)\n",
    "    qsvc_model = train_qsvc(X_train=X_train, y_train=y_train)\n",
    "    return y_train, X_test, y_test, svc_model, qsvc_model\n"
   ]
  },
  {
   "cell_type": "code",
   "execution_count": 146,
   "id": "9f5275f7",
   "metadata": {
    "scrolled": true
   },
   "outputs": [],
   "source": [
    "# Dispatch workflow and obtain results\n",
    "#dispatch_id = ct.dispatch(workflow)()\n",
    "#result = ct.get_result(dispatch_id=dispatch_id, wait=True)\n",
    "result = workflow()"
   ]
  },
  {
   "cell_type": "code",
   "execution_count": 147,
   "id": "da7fb6ea",
   "metadata": {},
   "outputs": [
    {
     "name": "stdout",
     "output_type": "stream",
     "text": [
      "(array([ 1, -1, -1, -1, -1, -1, -1, -1, -1,  1,  1, -1, -1, -1,  1, -1, -1,\n",
      "       -1,  1,  1,  1, -1,  1,  1, -1, -1,  1,  1,  1, -1,  1,  1,  1, -1,\n",
      "        1,  1, -1, -1, -1, -1,  1, -1,  1, -1,  1,  1, -1, -1, -1, -1,  1,\n",
      "       -1, -1, -1,  1,  1, -1, -1,  1, -1, -1,  1, -1, -1, -1, -1,  1,  1,\n",
      "       -1,  1, -1, -1, -1, -1, -1]), array([[-1.11048015,  1.54109438],\n",
      "       [ 0.91904044, -3.22691904],\n",
      "       [-1.68094869,  4.63943916],\n",
      "       [-0.16072776, -0.59633228],\n",
      "       [-0.70327704, -0.2128961 ],\n",
      "       [-0.65811151, -0.84465317],\n",
      "       [-0.5184217 , -0.18213792],\n",
      "       [ 1.83076909, -0.90869763],\n",
      "       [ 6.56870328, -0.37127758],\n",
      "       [-0.30436612, -0.89132365],\n",
      "       [-0.62368446, -0.71956352],\n",
      "       [ 1.30222405, -0.17103847],\n",
      "       [-0.11447439, -2.22333858],\n",
      "       [-0.6230652 ,  0.01768653],\n",
      "       [-0.83464078,  0.40096582],\n",
      "       [-0.61722297, -0.02169801],\n",
      "       [-0.8804098 ,  0.63480102],\n",
      "       [-1.48098186,  3.58228831],\n",
      "       [-0.7939124 ,  0.83985305],\n",
      "       [-1.00278417,  0.9057107 ],\n",
      "       [ 0.24557849, -1.09993751],\n",
      "       [ 0.45231075, -0.52655219],\n",
      "       [-0.19137999, -0.21165842],\n",
      "       [ 2.91988652, -1.39742106],\n",
      "       [-0.34603726, -1.5190985 ],\n",
      "       [ 1.86970573, -1.36053214]]), array([ 1, -1,  1, -1, -1, -1,  1, -1, -1, -1, -1, -1, -1,  1,  1,  1,  1,\n",
      "        1,  1,  1, -1, -1,  1, -1, -1, -1]), SVC(kernel='linear'), SVC(kernel=<bound method QuantumKernel.evaluate of <qiskit_machine_learning.kernels.quantum_kernel.QuantumKernel object at 0x7ffd5e6aca00>>))\n"
     ]
    }
   ],
   "source": [
    "print(result)"
   ]
  },
  {
   "cell_type": "code",
   "execution_count": 148,
   "id": "3c8227b9",
   "metadata": {},
   "outputs": [],
   "source": [
    "#X_test, y_test, svc_model, qsvc_model = result.result\n",
    "y_train, X_test, y_test, svc_model, qsvc_model = result"
   ]
  },
  {
   "cell_type": "code",
   "execution_count": 149,
   "id": "185a8142",
   "metadata": {},
   "outputs": [
    {
     "data": {
      "text/plain": [
       "-0.22666666666666666"
      ]
     },
     "execution_count": 149,
     "metadata": {},
     "output_type": "execute_result"
    }
   ],
   "source": [
    "np.average(y_train)"
   ]
  },
  {
   "cell_type": "code",
   "execution_count": 150,
   "id": "c2805847",
   "metadata": {},
   "outputs": [
    {
     "data": {
      "text/plain": [
       "array([1])"
      ]
     },
     "execution_count": 150,
     "metadata": {},
     "output_type": "execute_result"
    }
   ],
   "source": [
    "X = X_test[0]\n",
    "qsvc_model.predict(X)\n"
   ]
  },
  {
   "cell_type": "code",
   "execution_count": 151,
   "id": "0e41084d",
   "metadata": {},
   "outputs": [
    {
     "data": {
      "text/plain": [
       "Text(0.5, 1.0, 'SVC confusion matrix plot')"
      ]
     },
     "execution_count": 151,
     "metadata": {},
     "output_type": "execute_result"
    },
    {
     "data": {
      "image/png": "[encoded data removed]",
      "text/plain": [
       "<Figure size 640x480 with 2 Axes>"
      ]
     },
     "metadata": {},
     "output_type": "display_data"
    }
   ],
   "source": [
    "# Results from SVC\n",
    "svc_cm_plot = ConfusionMatrixDisplay.from_estimator(svc_model, X_test, y_test)\n",
    "svc_cm_plot.ax_.set_title(\"SVC confusion matrix plot\")\n"
   ]
  },
  {
   "cell_type": "code",
   "execution_count": 152,
   "id": "49ea7010",
   "metadata": {},
   "outputs": [
    {
     "data": {
      "text/plain": [
       "Text(0.5, 1.0, 'QSVC confusion matrix plot')"
      ]
     },
     "execution_count": 152,
     "metadata": {},
     "output_type": "execute_result"
    },
    {
     "data": {
      "image/png": "[encoded data removed]",
      "text/plain": [
       "<Figure size 640x480 with 2 Axes>"
      ]
     },
     "metadata": {},
     "output_type": "display_data"
    }
   ],
   "source": [
    "# Results from QSVC\n",
    "qsvc_cm_plot = ConfusionMatrixDisplay.from_estimator(qsvc_model, X_test, y_test)\n",
    "qsvc_cm_plot.ax_.set_title(\"QSVC confusion matrix plot\")\n"
   ]
  },
  {
   "cell_type": "code",
   "execution_count": 155,
   "id": "aa316a04",
   "metadata": {},
   "outputs": [],
   "source": [
    "file = \"./models/svc.pkl\"\n",
    "with open(file, \"wb\") as fd:\n",
    "    pk.dump(svc_model, fd)"
   ]
  },
  {
   "cell_type": "code",
   "execution_count": 156,
   "id": "0c872c2a",
   "metadata": {},
   "outputs": [],
   "source": [
    "file = \"./models/qsvc.pkl\"\n",
    "with open(file, \"wb\") as fd:\n",
    "    pk.dump(qsvc_model, fd)"
   ]
  },
  {
   "cell_type": "code",
   "execution_count": null,
   "id": "d0d07711",
   "metadata": {},
   "outputs": [],
   "source": []
  }
 ],
 "metadata": {
  "kernelspec": {
   "display_name": "Python 3 (ipykernel)",
   "language": "python",
   "name": "python3"
  },
  "language_info": {
   "codemirror_mode": {
    "name": "ipython",
    "version": 3
   },
   "file_extension": ".py",
   "mimetype": "text/x-python",
   "name": "python",
   "nbconvert_exporter": "python",
   "pygments_lexer": "ipython3",
   "version": "3.10.9"
  }
 },
 "nbformat": 4,
 "nbformat_minor": 5
}
